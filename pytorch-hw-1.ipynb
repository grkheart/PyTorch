{
 "cells": [
  {
   "cell_type": "code",
   "execution_count": 1,
   "id": "a9334b02",
   "metadata": {
    "_cell_guid": "b1076dfc-b9ad-4769-8c92-a6c4dae69d19",
    "_uuid": "8f2839f25d086af736a60e9eeb907d3b93b6e0e5",
    "execution": {
     "iopub.execute_input": "2023-01-25T08:34:38.699477Z",
     "iopub.status.busy": "2023-01-25T08:34:38.698946Z",
     "iopub.status.idle": "2023-01-25T08:34:38.710138Z",
     "shell.execute_reply": "2023-01-25T08:34:38.709260Z"
    },
    "papermill": {
     "duration": 0.020447,
     "end_time": "2023-01-25T08:34:38.713011",
     "exception": false,
     "start_time": "2023-01-25T08:34:38.692564",
     "status": "completed"
    },
    "tags": []
   },
   "outputs": [],
   "source": [
    "# This Python 3 environment comes with many helpful analytics libraries installed\n",
    "# It is defined by the kaggle/python Docker image: https://github.com/kaggle/docker-python\n",
    "# For example, here's several helpful packages to load\n",
    "\n",
    "import numpy as np # linear algebra\n",
    "import pandas as pd # data processing, CSV file I/O (e.g. pd.read_csv)\n",
    "\n",
    "# Input data files are available in the read-only \"../input/\" directory\n",
    "# For example, running this (by clicking run or pressing Shift+Enter) will list all files under the input directory\n",
    "\n",
    "import os\n",
    "for dirname, _, filenames in os.walk('/kaggle/input'):\n",
    "    for filename in filenames:\n",
    "        print(os.path.join(dirname, filename))\n",
    "\n",
    "# You can write up to 20GB to the current directory (/kaggle/working/) that gets preserved as output when you create a version using \"Save & Run All\" \n",
    "# You can also write temporary files to /kaggle/temp/, but they won't be saved outside of the current session"
   ]
  },
  {
   "cell_type": "code",
   "execution_count": 2,
   "id": "cdd7c1d6",
   "metadata": {
    "execution": {
     "iopub.execute_input": "2023-01-25T08:34:38.722050Z",
     "iopub.status.busy": "2023-01-25T08:34:38.721653Z",
     "iopub.status.idle": "2023-01-25T08:34:49.308507Z",
     "shell.execute_reply": "2023-01-25T08:34:49.307044Z"
    },
    "papermill": {
     "duration": 10.594438,
     "end_time": "2023-01-25T08:34:49.311317",
     "exception": false,
     "start_time": "2023-01-25T08:34:38.716879",
     "status": "completed"
    },
    "tags": []
   },
   "outputs": [
    {
     "name": "stdout",
     "output_type": "stream",
     "text": [
      "Requirement already satisfied: torch in /opt/conda/lib/python3.7/site-packages (1.11.0+cpu)\r\n",
      "Requirement already satisfied: torchvision in /opt/conda/lib/python3.7/site-packages (0.12.0+cpu)\r\n",
      "Requirement already satisfied: typing-extensions in /opt/conda/lib/python3.7/site-packages (from torch) (4.1.1)\r\n",
      "Requirement already satisfied: numpy in /opt/conda/lib/python3.7/site-packages (from torchvision) (1.21.6)\r\n",
      "Requirement already satisfied: requests in /opt/conda/lib/python3.7/site-packages (from torchvision) (2.28.1)\r\n",
      "Requirement already satisfied: pillow!=8.3.*,>=5.3.0 in /opt/conda/lib/python3.7/site-packages (from torchvision) (9.1.1)\r\n",
      "Requirement already satisfied: charset-normalizer<3,>=2 in /opt/conda/lib/python3.7/site-packages (from requests->torchvision) (2.1.0)\r\n",
      "Requirement already satisfied: urllib3<1.27,>=1.21.1 in /opt/conda/lib/python3.7/site-packages (from requests->torchvision) (1.26.14)\r\n",
      "Requirement already satisfied: certifi>=2017.4.17 in /opt/conda/lib/python3.7/site-packages (from requests->torchvision) (2022.12.7)\r\n",
      "Requirement already satisfied: idna<4,>=2.5 in /opt/conda/lib/python3.7/site-packages (from requests->torchvision) (3.3)\r\n",
      "\u001b[33mWARNING: Running pip as the 'root' user can result in broken permissions and conflicting behaviour with the system package manager. It is recommended to use a virtual environment instead: https://pip.pypa.io/warnings/venv\u001b[0m\u001b[33m\r\n",
      "\u001b[0m"
     ]
    }
   ],
   "source": [
    "!pip install torch torchvision"
   ]
  },
  {
   "cell_type": "code",
   "execution_count": 3,
   "id": "0fb6882d",
   "metadata": {
    "execution": {
     "iopub.execute_input": "2023-01-25T08:34:49.320161Z",
     "iopub.status.busy": "2023-01-25T08:34:49.319720Z",
     "iopub.status.idle": "2023-01-25T08:34:51.203030Z",
     "shell.execute_reply": "2023-01-25T08:34:51.201970Z"
    },
    "papermill": {
     "duration": 1.890465,
     "end_time": "2023-01-25T08:34:51.205442",
     "exception": false,
     "start_time": "2023-01-25T08:34:49.314977",
     "status": "completed"
    },
    "tags": []
   },
   "outputs": [],
   "source": [
    "import torch\n",
    "import torchvision\n",
    "import numpy as np"
   ]
  },
  {
   "cell_type": "code",
   "execution_count": 4,
   "id": "c311f42f",
   "metadata": {
    "execution": {
     "iopub.execute_input": "2023-01-25T08:34:51.214255Z",
     "iopub.status.busy": "2023-01-25T08:34:51.213183Z",
     "iopub.status.idle": "2023-01-25T08:34:51.224050Z",
     "shell.execute_reply": "2023-01-25T08:34:51.222223Z"
    },
    "papermill": {
     "duration": 0.017493,
     "end_time": "2023-01-25T08:34:51.226496",
     "exception": false,
     "start_time": "2023-01-25T08:34:51.209003",
     "status": "completed"
    },
    "tags": []
   },
   "outputs": [
    {
     "name": "stdout",
     "output_type": "stream",
     "text": [
      "tensor([[[-1.9074e+00,  3.9419e-01,  9.9539e-01,  7.0182e-01,  6.4419e-01],\n",
      "         [-2.6407e-01,  1.2535e+00,  1.6054e+00,  1.9917e-01,  1.8942e+00],\n",
      "         [ 1.1060e+00, -1.3121e-01,  9.6282e-01, -1.2782e-02,  1.9960e+00],\n",
      "         [ 9.5395e-01, -4.3152e-01, -5.1356e-01,  6.3469e-01,  4.7221e-01]],\n",
      "\n",
      "        [[-6.0254e-01,  8.2708e-01, -2.3133e-03,  6.3096e-01,  2.2643e-01],\n",
      "         [-1.5486e+00, -2.4911e+00,  1.3089e-01,  1.2135e+00, -2.6380e+00],\n",
      "         [-6.0109e-01, -1.4022e+00, -1.1291e+00, -3.9274e-01,  8.9849e-02],\n",
      "         [-9.0763e-01,  4.6464e-01, -5.9253e-01,  8.2619e-01,  2.4516e+00]],\n",
      "\n",
      "        [[ 1.0161e+00, -1.0637e-01,  1.4930e+00,  8.0728e-01,  2.4033e-01],\n",
      "         [-5.3844e-01,  1.6548e+00,  8.3420e-03,  6.2744e-01, -1.0980e+00],\n",
      "         [ 4.2749e-01, -6.8016e-01, -2.9928e-01,  1.0795e+00,  2.6041e-01],\n",
      "         [ 6.7689e-01,  1.3593e-01, -7.1369e-02,  2.7712e+00, -1.3757e-01]]])\n",
      "torch.FloatTensor\n"
     ]
    }
   ],
   "source": [
    "# 1. Создайте случайный FloatTensor размера 3x4x5\n",
    "\n",
    "x = torch.randn(3, 4, 5)\n",
    "print (x)\n",
    "print(x.type())"
   ]
  },
  {
   "cell_type": "code",
   "execution_count": 5,
   "id": "f3082be1",
   "metadata": {
    "execution": {
     "iopub.execute_input": "2023-01-25T08:34:51.235659Z",
     "iopub.status.busy": "2023-01-25T08:34:51.235178Z",
     "iopub.status.idle": "2023-01-25T08:34:51.241247Z",
     "shell.execute_reply": "2023-01-25T08:34:51.239861Z"
    },
    "papermill": {
     "duration": 0.013148,
     "end_time": "2023-01-25T08:34:51.243325",
     "exception": false,
     "start_time": "2023-01-25T08:34:51.230177",
     "status": "completed"
    },
    "tags": []
   },
   "outputs": [
    {
     "name": "stdout",
     "output_type": "stream",
     "text": [
      "torch.Size([3, 4, 5])\n"
     ]
    }
   ],
   "source": [
    "# 2. Выведите его форму (shape)\n",
    "\n",
    "print(x.shape)"
   ]
  },
  {
   "cell_type": "code",
   "execution_count": 6,
   "id": "da093d66",
   "metadata": {
    "execution": {
     "iopub.execute_input": "2023-01-25T08:34:51.252309Z",
     "iopub.status.busy": "2023-01-25T08:34:51.251882Z",
     "iopub.status.idle": "2023-01-25T08:34:51.260132Z",
     "shell.execute_reply": "2023-01-25T08:34:51.258168Z"
    },
    "papermill": {
     "duration": 0.015517,
     "end_time": "2023-01-25T08:34:51.262461",
     "exception": false,
     "start_time": "2023-01-25T08:34:51.246944",
     "status": "completed"
    },
    "tags": []
   },
   "outputs": [
    {
     "name": "stdout",
     "output_type": "stream",
     "text": [
      "tensor([[-1.9074e+00,  3.9419e-01,  9.9539e-01,  7.0182e-01,  6.4419e-01,\n",
      "         -2.6407e-01,  1.2535e+00,  1.6054e+00,  1.9917e-01,  1.8942e+00],\n",
      "        [ 1.1060e+00, -1.3121e-01,  9.6282e-01, -1.2782e-02,  1.9960e+00,\n",
      "          9.5395e-01, -4.3152e-01, -5.1356e-01,  6.3469e-01,  4.7221e-01],\n",
      "        [-6.0254e-01,  8.2708e-01, -2.3133e-03,  6.3096e-01,  2.2643e-01,\n",
      "         -1.5486e+00, -2.4911e+00,  1.3089e-01,  1.2135e+00, -2.6380e+00],\n",
      "        [-6.0109e-01, -1.4022e+00, -1.1291e+00, -3.9274e-01,  8.9849e-02,\n",
      "         -9.0763e-01,  4.6464e-01, -5.9253e-01,  8.2619e-01,  2.4516e+00],\n",
      "        [ 1.0161e+00, -1.0637e-01,  1.4930e+00,  8.0728e-01,  2.4033e-01,\n",
      "         -5.3844e-01,  1.6548e+00,  8.3420e-03,  6.2744e-01, -1.0980e+00],\n",
      "        [ 4.2749e-01, -6.8016e-01, -2.9928e-01,  1.0795e+00,  2.6041e-01,\n",
      "          6.7689e-01,  1.3593e-01, -7.1369e-02,  2.7712e+00, -1.3757e-01]])\n",
      "torch.Size([6, 10])\n"
     ]
    }
   ],
   "source": [
    "# 3. Приведите его к форме 6 X 10\n",
    "\n",
    "b = x.reshape(6,10)\n",
    "print (b)\n",
    "print(b.shape)"
   ]
  },
  {
   "cell_type": "code",
   "execution_count": 7,
   "id": "dc7d84c7",
   "metadata": {
    "execution": {
     "iopub.execute_input": "2023-01-25T08:34:51.271873Z",
     "iopub.status.busy": "2023-01-25T08:34:51.271444Z",
     "iopub.status.idle": "2023-01-25T08:34:51.277084Z",
     "shell.execute_reply": "2023-01-25T08:34:51.276442Z"
    },
    "papermill": {
     "duration": 0.013088,
     "end_time": "2023-01-25T08:34:51.279550",
     "exception": false,
     "start_time": "2023-01-25T08:34:51.266462",
     "status": "completed"
    },
    "tags": []
   },
   "outputs": [
    {
     "name": "stdout",
     "output_type": "stream",
     "text": [
      "tensor([ 5,  4,  6,  7, 12, 15,  7, 10, 10,  9], dtype=torch.int32)\n",
      "torch.IntTensor\n"
     ]
    }
   ],
   "source": [
    "# 4. Умножьте его на вектор [1, 4, 2, 2, 1] поэлементно\n",
    "c = torch.randint(20, size = (10, ))\n",
    "c = c.int()\n",
    "print(c)\n",
    "print(c.type())"
   ]
  },
  {
   "cell_type": "code",
   "execution_count": 8,
   "id": "e67b585c",
   "metadata": {
    "execution": {
     "iopub.execute_input": "2023-01-25T08:34:51.288232Z",
     "iopub.status.busy": "2023-01-25T08:34:51.287816Z",
     "iopub.status.idle": "2023-01-25T08:34:51.294144Z",
     "shell.execute_reply": "2023-01-25T08:34:51.293293Z"
    },
    "papermill": {
     "duration": 0.013356,
     "end_time": "2023-01-25T08:34:51.296486",
     "exception": false,
     "start_time": "2023-01-25T08:34:51.283130",
     "status": "completed"
    },
    "tags": []
   },
   "outputs": [
    {
     "name": "stdout",
     "output_type": "stream",
     "text": [
      "tensor([[-9.5371e+00,  1.5768e+00,  5.9723e+00,  4.9128e+00,  7.7302e+00,\n",
      "         -3.9610e+00,  8.7747e+00,  1.6054e+01,  1.9917e+00,  1.7048e+01],\n",
      "        [ 5.5299e+00, -5.2486e-01,  5.7769e+00, -8.9475e-02,  2.3952e+01,\n",
      "          1.4309e+01, -3.0206e+00, -5.1356e+00,  6.3469e+00,  4.2499e+00],\n",
      "        [-3.0127e+00,  3.3083e+00, -1.3880e-02,  4.4167e+00,  2.7172e+00,\n",
      "         -2.3229e+01, -1.7438e+01,  1.3089e+00,  1.2135e+01, -2.3742e+01],\n",
      "        [-3.0055e+00, -5.6090e+00, -6.7748e+00, -2.7492e+00,  1.0782e+00,\n",
      "         -1.3614e+01,  3.2525e+00, -5.9253e+00,  8.2619e+00,  2.2064e+01],\n",
      "        [ 5.0803e+00, -4.2550e-01,  8.9581e+00,  5.6509e+00,  2.8839e+00,\n",
      "         -8.0765e+00,  1.1584e+01,  8.3420e-02,  6.2744e+00, -9.8818e+00],\n",
      "        [ 2.1375e+00, -2.7206e+00, -1.7957e+00,  7.5565e+00,  3.1250e+00,\n",
      "          1.0153e+01,  9.5150e-01, -7.1369e-01,  2.7712e+01, -1.2381e+00]])\n",
      "torch.Size([6, 10])\n"
     ]
    }
   ],
   "source": [
    "# 5. Умножьте тензор матрично на себя, чтобы результат был размерности 6x6\n",
    "\n",
    "d = c * b\n",
    "print(d)\n",
    "print(d.shape)"
   ]
  },
  {
   "cell_type": "code",
   "execution_count": 9,
   "id": "d09f4d69",
   "metadata": {
    "execution": {
     "iopub.execute_input": "2023-01-25T08:34:51.305955Z",
     "iopub.status.busy": "2023-01-25T08:34:51.305578Z",
     "iopub.status.idle": "2023-01-25T08:34:51.324679Z",
     "shell.execute_reply": "2023-01-25T08:34:51.323746Z"
    },
    "papermill": {
     "duration": 0.026452,
     "end_time": "2023-01-25T08:34:51.326855",
     "exception": false,
     "start_time": "2023-01-25T08:34:51.300403",
     "status": "completed"
    },
    "tags": []
   },
   "outputs": [
    {
     "name": "stdout",
     "output_type": "stream",
     "text": [
      "tensor([3.]) tensor([1.]) tensor([-75.])\n"
     ]
    }
   ],
   "source": [
    "# 6. Посчитайте производную функции y = x**3 + z - 75t в точке (1, 0.5, 2)\n",
    "\n",
    "x = torch.tensor([1.0], requires_grad=True)\n",
    "z = torch.tensor([0.5], requires_grad=True)\n",
    "t = torch.tensor([2.0], requires_grad=True)\n",
    "y = x**3 + z -75*t\n",
    "y.backward([x, z, t])\n",
    "print(x.grad, z.grad, t.grad)"
   ]
  },
  {
   "cell_type": "code",
   "execution_count": 10,
   "id": "89d68a33",
   "metadata": {
    "execution": {
     "iopub.execute_input": "2023-01-25T08:34:51.336769Z",
     "iopub.status.busy": "2023-01-25T08:34:51.336159Z",
     "iopub.status.idle": "2023-01-25T08:34:51.342638Z",
     "shell.execute_reply": "2023-01-25T08:34:51.341535Z"
    },
    "papermill": {
     "duration": 0.013664,
     "end_time": "2023-01-25T08:34:51.344532",
     "exception": false,
     "start_time": "2023-01-25T08:34:51.330868",
     "status": "completed"
    },
    "tags": []
   },
   "outputs": [
    {
     "name": "stdout",
     "output_type": "stream",
     "text": [
      "tensor([[1., 1., 1., 1., 1., 1.],\n",
      "        [1., 1., 1., 1., 1., 1.],\n",
      "        [1., 1., 1., 1., 1., 1.],\n",
      "        [1., 1., 1., 1., 1., 1.],\n",
      "        [1., 1., 1., 1., 1., 1.]])\n"
     ]
    }
   ],
   "source": [
    "# 7. Создайте единичный тензор размера 5x6\n",
    "\n",
    "f = torch.ones(5, 6)\n",
    "print(f)"
   ]
  },
  {
   "cell_type": "code",
   "execution_count": 11,
   "id": "cc0078e0",
   "metadata": {
    "execution": {
     "iopub.execute_input": "2023-01-25T08:34:51.354117Z",
     "iopub.status.busy": "2023-01-25T08:34:51.353517Z",
     "iopub.status.idle": "2023-01-25T08:34:51.362039Z",
     "shell.execute_reply": "2023-01-25T08:34:51.361123Z"
    },
    "papermill": {
     "duration": 0.015551,
     "end_time": "2023-01-25T08:34:51.363955",
     "exception": false,
     "start_time": "2023-01-25T08:34:51.348404",
     "status": "completed"
    },
    "tags": []
   },
   "outputs": [
    {
     "data": {
      "text/plain": [
       "array([[1., 1., 1., 1., 1., 1.],\n",
       "       [1., 1., 1., 1., 1., 1.],\n",
       "       [1., 1., 1., 1., 1., 1.],\n",
       "       [1., 1., 1., 1., 1., 1.],\n",
       "       [1., 1., 1., 1., 1., 1.]], dtype=float32)"
      ]
     },
     "execution_count": 11,
     "metadata": {},
     "output_type": "execute_result"
    }
   ],
   "source": [
    "# Переведите его в формат numpy\n",
    "\n",
    "f.numpy()"
   ]
  }
 ],
 "metadata": {
  "kernelspec": {
   "display_name": "Python 3",
   "language": "python",
   "name": "python3"
  },
  "language_info": {
   "codemirror_mode": {
    "name": "ipython",
    "version": 3
   },
   "file_extension": ".py",
   "mimetype": "text/x-python",
   "name": "python",
   "nbconvert_exporter": "python",
   "pygments_lexer": "ipython3",
   "version": "3.7.12"
  },
  "papermill": {
   "default_parameters": {},
   "duration": 21.219742,
   "end_time": "2023-01-25T08:34:52.492481",
   "environment_variables": {},
   "exception": null,
   "input_path": "__notebook__.ipynb",
   "output_path": "__notebook__.ipynb",
   "parameters": {},
   "start_time": "2023-01-25T08:34:31.272739",
   "version": "2.3.4"
  }
 },
 "nbformat": 4,
 "nbformat_minor": 5
}
