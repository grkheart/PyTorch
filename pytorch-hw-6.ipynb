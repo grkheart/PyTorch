{
 "cells": [
  {
   "cell_type": "code",
   "execution_count": 1,
   "id": "d0217cda",
   "metadata": {
    "_cell_guid": "b1076dfc-b9ad-4769-8c92-a6c4dae69d19",
    "_uuid": "8f2839f25d086af736a60e9eeb907d3b93b6e0e5",
    "execution": {
     "iopub.execute_input": "2023-02-12T11:20:42.522804Z",
     "iopub.status.busy": "2023-02-12T11:20:42.522213Z",
     "iopub.status.idle": "2023-02-12T11:20:42.556389Z",
     "shell.execute_reply": "2023-02-12T11:20:42.555397Z"
    },
    "papermill": {
     "duration": 0.050592,
     "end_time": "2023-02-12T11:20:42.559944",
     "exception": false,
     "start_time": "2023-02-12T11:20:42.509352",
     "status": "completed"
    },
    "tags": []
   },
   "outputs": [
    {
     "name": "stdout",
     "output_type": "stream",
     "text": [
      "/kaggle/input/twitter-sentiment-analysis-hatred-speech/train.csv\n",
      "/kaggle/input/twitter-sentiment-analysis-hatred-speech/test.csv\n"
     ]
    }
   ],
   "source": [
    "# This Python 3 environment comes with many helpful analytics libraries installed\n",
    "# It is defined by the kaggle/python Docker image: https://github.com/kaggle/docker-python\n",
    "# For example, here's several helpful packages to load\n",
    "\n",
    "import numpy as np # linear algebra\n",
    "import pandas as pd # data processing, CSV file I/O (e.g. pd.read_csv)\n",
    "\n",
    "# Input data files are available in the read-only \"../input/\" directory\n",
    "# For example, running this (by clicking run or pressing Shift+Enter) will list all files under the input directory\n",
    "\n",
    "import os\n",
    "for dirname, _, filenames in os.walk('/kaggle/input'):\n",
    "    for filename in filenames:\n",
    "        print(os.path.join(dirname, filename))\n",
    "\n",
    "# You can write up to 20GB to the current directory (/kaggle/working/) that gets preserved as output when you create a version using \"Save & Run All\" \n",
    "# You can also write temporary files to /kaggle/temp/, but they won't be saved outside of the current session"
   ]
  },
  {
   "cell_type": "markdown",
   "id": "ed91ae17",
   "metadata": {
    "papermill": {
     "duration": 0.008106,
     "end_time": "2023-02-12T11:20:42.577812",
     "exception": false,
     "start_time": "2023-02-12T11:20:42.569706",
     "status": "completed"
    },
    "tags": []
   },
   "source": [
    "### Задание:\n",
    "\n",
    "Попробуйте обучить нейронную сеть с применением одномерных сверток для предсказания сентимента сообщений с твиттера на примере https://www.kaggle.com/datasets/arkhoshghalb/twitter-sentiment-analysis-hatred-speech"
   ]
  },
  {
   "cell_type": "code",
   "execution_count": 2,
   "id": "ba38a23f",
   "metadata": {
    "execution": {
     "iopub.execute_input": "2023-02-12T11:20:42.598141Z",
     "iopub.status.busy": "2023-02-12T11:20:42.597337Z",
     "iopub.status.idle": "2023-02-12T11:20:56.213669Z",
     "shell.execute_reply": "2023-02-12T11:20:56.212211Z"
    },
    "papermill": {
     "duration": 13.630545,
     "end_time": "2023-02-12T11:20:56.216966",
     "exception": false,
     "start_time": "2023-02-12T11:20:42.586421",
     "status": "completed"
    },
    "tags": []
   },
   "outputs": [
    {
     "name": "stdout",
     "output_type": "stream",
     "text": [
      "Requirement already satisfied: stop_words in /opt/conda/lib/python3.7/site-packages (2018.7.23)\r\n",
      "\u001b[33mWARNING: Running pip as the 'root' user can result in broken permissions and conflicting behaviour with the system package manager. It is recommended to use a virtual environment instead: https://pip.pypa.io/warnings/venv\u001b[0m\u001b[33m\r\n",
      "\u001b[0m"
     ]
    }
   ],
   "source": [
    "! pip install stop_words"
   ]
  },
  {
   "cell_type": "code",
   "execution_count": 3,
   "id": "2a93187c",
   "metadata": {
    "execution": {
     "iopub.execute_input": "2023-02-12T11:20:56.237662Z",
     "iopub.status.busy": "2023-02-12T11:20:56.237132Z",
     "iopub.status.idle": "2023-02-12T11:20:59.718189Z",
     "shell.execute_reply": "2023-02-12T11:20:59.716655Z"
    },
    "papermill": {
     "duration": 3.495408,
     "end_time": "2023-02-12T11:20:59.721387",
     "exception": false,
     "start_time": "2023-02-12T11:20:56.225979",
     "status": "completed"
    },
    "tags": []
   },
   "outputs": [],
   "source": [
    "import torch\n",
    "import torch.nn as nn\n",
    "import torch.nn.functional as F\n",
    "from torch.utils.data import DataLoader, Dataset\n",
    "\n",
    "import pandas as pd\n",
    "import numpy as np\n",
    "import matplotlib.pyplot as plt\n",
    "from sklearn.model_selection import train_test_split\n",
    "\n",
    "import re\n",
    "from tqdm import tqdm \n",
    "\n",
    "import nltk\n",
    "from nltk.tokenize import word_tokenize\n",
    "from string import punctuation\n",
    "from stop_words import get_stop_words\n",
    "from nltk.stem import WordNetLemmatizer\n",
    "from nltk.probability import FreqDist\n",
    "\n",
    "import warnings\n",
    "warnings.filterwarnings('ignore')"
   ]
  },
  {
   "cell_type": "code",
   "execution_count": 4,
   "id": "0dcfeca4",
   "metadata": {
    "execution": {
     "iopub.execute_input": "2023-02-12T11:20:59.741779Z",
     "iopub.status.busy": "2023-02-12T11:20:59.740397Z",
     "iopub.status.idle": "2023-02-12T11:21:00.142707Z",
     "shell.execute_reply": "2023-02-12T11:21:00.141187Z"
    },
    "papermill": {
     "duration": 0.415969,
     "end_time": "2023-02-12T11:21:00.146148",
     "exception": false,
     "start_time": "2023-02-12T11:20:59.730179",
     "status": "completed"
    },
    "tags": []
   },
   "outputs": [
    {
     "name": "stderr",
     "output_type": "stream",
     "text": [
      "[nltk_data] Downloading package wordnet to /usr/share/nltk_data...\n",
      "[nltk_data]   Package wordnet is already up-to-date!\n"
     ]
    },
    {
     "data": {
      "text/plain": [
       "True"
      ]
     },
     "execution_count": 4,
     "metadata": {},
     "output_type": "execute_result"
    }
   ],
   "source": [
    "nltk.download('wordnet')"
   ]
  },
  {
   "cell_type": "code",
   "execution_count": 5,
   "id": "c440b287",
   "metadata": {
    "execution": {
     "iopub.execute_input": "2023-02-12T11:21:00.166375Z",
     "iopub.status.busy": "2023-02-12T11:21:00.165672Z",
     "iopub.status.idle": "2023-02-12T11:21:00.253646Z",
     "shell.execute_reply": "2023-02-12T11:21:00.252230Z"
    },
    "papermill": {
     "duration": 0.100681,
     "end_time": "2023-02-12T11:21:00.256122",
     "exception": false,
     "start_time": "2023-02-12T11:21:00.155441",
     "status": "completed"
    },
    "tags": []
   },
   "outputs": [
    {
     "name": "stderr",
     "output_type": "stream",
     "text": [
      "[nltk_data] Downloading package punkt to /usr/share/nltk_data...\n",
      "[nltk_data]   Package punkt is already up-to-date!\n"
     ]
    },
    {
     "data": {
      "text/plain": [
       "True"
      ]
     },
     "execution_count": 5,
     "metadata": {},
     "output_type": "execute_result"
    }
   ],
   "source": [
    "nltk.download('punkt')"
   ]
  },
  {
   "cell_type": "markdown",
   "id": "ff6c5e90",
   "metadata": {
    "papermill": {
     "duration": 0.008533,
     "end_time": "2023-02-12T11:21:00.273559",
     "exception": false,
     "start_time": "2023-02-12T11:21:00.265026",
     "status": "completed"
    },
    "tags": []
   },
   "source": [
    "### Загрузка и подготовка данных"
   ]
  },
  {
   "cell_type": "code",
   "execution_count": 6,
   "id": "0fcbd09f",
   "metadata": {
    "execution": {
     "iopub.execute_input": "2023-02-12T11:21:00.295722Z",
     "iopub.status.busy": "2023-02-12T11:21:00.294366Z",
     "iopub.status.idle": "2023-02-12T11:21:00.525780Z",
     "shell.execute_reply": "2023-02-12T11:21:00.524835Z"
    },
    "papermill": {
     "duration": 0.244481,
     "end_time": "2023-02-12T11:21:00.528205",
     "exception": false,
     "start_time": "2023-02-12T11:21:00.283724",
     "status": "completed"
    },
    "tags": []
   },
   "outputs": [
    {
     "data": {
      "text/plain": [
       "((31962, 3), (17197, 2))"
      ]
     },
     "execution_count": 6,
     "metadata": {},
     "output_type": "execute_result"
    }
   ],
   "source": [
    "# Загрузим тестовый и тренировочный датасеты с твитами\n",
    "train_df = pd.read_csv('/kaggle/input/twitter-sentiment-analysis-hatred-speech/train.csv')\n",
    "test_df = pd.read_csv('/kaggle/input/twitter-sentiment-analysis-hatred-speech/test.csv')\n",
    "train_df.shape, test_df.shape"
   ]
  },
  {
   "cell_type": "code",
   "execution_count": 7,
   "id": "9095b821",
   "metadata": {
    "execution": {
     "iopub.execute_input": "2023-02-12T11:21:00.548840Z",
     "iopub.status.busy": "2023-02-12T11:21:00.547777Z",
     "iopub.status.idle": "2023-02-12T11:21:00.566699Z",
     "shell.execute_reply": "2023-02-12T11:21:00.565529Z"
    },
    "papermill": {
     "duration": 0.034028,
     "end_time": "2023-02-12T11:21:00.571129",
     "exception": false,
     "start_time": "2023-02-12T11:21:00.537101",
     "status": "completed"
    },
    "tags": []
   },
   "outputs": [
    {
     "data": {
      "text/html": [
       "<div>\n",
       "<style scoped>\n",
       "    .dataframe tbody tr th:only-of-type {\n",
       "        vertical-align: middle;\n",
       "    }\n",
       "\n",
       "    .dataframe tbody tr th {\n",
       "        vertical-align: top;\n",
       "    }\n",
       "\n",
       "    .dataframe thead th {\n",
       "        text-align: right;\n",
       "    }\n",
       "</style>\n",
       "<table border=\"1\" class=\"dataframe\">\n",
       "  <thead>\n",
       "    <tr style=\"text-align: right;\">\n",
       "      <th></th>\n",
       "      <th>id</th>\n",
       "      <th>label</th>\n",
       "      <th>tweet</th>\n",
       "    </tr>\n",
       "  </thead>\n",
       "  <tbody>\n",
       "    <tr>\n",
       "      <th>0</th>\n",
       "      <td>1</td>\n",
       "      <td>0</td>\n",
       "      <td>@user when a father is dysfunctional and is s...</td>\n",
       "    </tr>\n",
       "    <tr>\n",
       "      <th>1</th>\n",
       "      <td>2</td>\n",
       "      <td>0</td>\n",
       "      <td>@user @user thanks for #lyft credit i can't us...</td>\n",
       "    </tr>\n",
       "    <tr>\n",
       "      <th>2</th>\n",
       "      <td>3</td>\n",
       "      <td>0</td>\n",
       "      <td>bihday your majesty</td>\n",
       "    </tr>\n",
       "    <tr>\n",
       "      <th>3</th>\n",
       "      <td>4</td>\n",
       "      <td>0</td>\n",
       "      <td>#model   i love u take with u all the time in ...</td>\n",
       "    </tr>\n",
       "    <tr>\n",
       "      <th>4</th>\n",
       "      <td>5</td>\n",
       "      <td>0</td>\n",
       "      <td>factsguide: society now    #motivation</td>\n",
       "    </tr>\n",
       "  </tbody>\n",
       "</table>\n",
       "</div>"
      ],
      "text/plain": [
       "   id  label                                              tweet\n",
       "0   1      0   @user when a father is dysfunctional and is s...\n",
       "1   2      0  @user @user thanks for #lyft credit i can't us...\n",
       "2   3      0                                bihday your majesty\n",
       "3   4      0  #model   i love u take with u all the time in ...\n",
       "4   5      0             factsguide: society now    #motivation"
      ]
     },
     "execution_count": 7,
     "metadata": {},
     "output_type": "execute_result"
    }
   ],
   "source": [
    "train_df.head()"
   ]
  },
  {
   "cell_type": "code",
   "execution_count": 8,
   "id": "c53d5319",
   "metadata": {
    "execution": {
     "iopub.execute_input": "2023-02-12T11:21:00.592250Z",
     "iopub.status.busy": "2023-02-12T11:21:00.591699Z",
     "iopub.status.idle": "2023-02-12T11:21:00.602487Z",
     "shell.execute_reply": "2023-02-12T11:21:00.601600Z"
    },
    "papermill": {
     "duration": 0.023489,
     "end_time": "2023-02-12T11:21:00.604516",
     "exception": false,
     "start_time": "2023-02-12T11:21:00.581027",
     "status": "completed"
    },
    "tags": []
   },
   "outputs": [
    {
     "data": {
      "text/html": [
       "<div>\n",
       "<style scoped>\n",
       "    .dataframe tbody tr th:only-of-type {\n",
       "        vertical-align: middle;\n",
       "    }\n",
       "\n",
       "    .dataframe tbody tr th {\n",
       "        vertical-align: top;\n",
       "    }\n",
       "\n",
       "    .dataframe thead th {\n",
       "        text-align: right;\n",
       "    }\n",
       "</style>\n",
       "<table border=\"1\" class=\"dataframe\">\n",
       "  <thead>\n",
       "    <tr style=\"text-align: right;\">\n",
       "      <th></th>\n",
       "      <th>id</th>\n",
       "      <th>tweet</th>\n",
       "    </tr>\n",
       "  </thead>\n",
       "  <tbody>\n",
       "    <tr>\n",
       "      <th>0</th>\n",
       "      <td>31963</td>\n",
       "      <td>#studiolife #aislife #requires #passion #dedic...</td>\n",
       "    </tr>\n",
       "    <tr>\n",
       "      <th>1</th>\n",
       "      <td>31964</td>\n",
       "      <td>@user #white #supremacists want everyone to s...</td>\n",
       "    </tr>\n",
       "    <tr>\n",
       "      <th>2</th>\n",
       "      <td>31965</td>\n",
       "      <td>safe ways to heal your #acne!!    #altwaystohe...</td>\n",
       "    </tr>\n",
       "    <tr>\n",
       "      <th>3</th>\n",
       "      <td>31966</td>\n",
       "      <td>is the hp and the cursed child book up for res...</td>\n",
       "    </tr>\n",
       "    <tr>\n",
       "      <th>4</th>\n",
       "      <td>31967</td>\n",
       "      <td>3rd #bihday to my amazing, hilarious #nephew...</td>\n",
       "    </tr>\n",
       "  </tbody>\n",
       "</table>\n",
       "</div>"
      ],
      "text/plain": [
       "      id                                              tweet\n",
       "0  31963  #studiolife #aislife #requires #passion #dedic...\n",
       "1  31964   @user #white #supremacists want everyone to s...\n",
       "2  31965  safe ways to heal your #acne!!    #altwaystohe...\n",
       "3  31966  is the hp and the cursed child book up for res...\n",
       "4  31967    3rd #bihday to my amazing, hilarious #nephew..."
      ]
     },
     "execution_count": 8,
     "metadata": {},
     "output_type": "execute_result"
    }
   ],
   "source": [
    "test_df.head()"
   ]
  },
  {
   "cell_type": "code",
   "execution_count": 9,
   "id": "51ea6fb8",
   "metadata": {
    "execution": {
     "iopub.execute_input": "2023-02-12T11:21:00.626104Z",
     "iopub.status.busy": "2023-02-12T11:21:00.625246Z",
     "iopub.status.idle": "2023-02-12T11:21:00.642167Z",
     "shell.execute_reply": "2023-02-12T11:21:00.641029Z"
    },
    "papermill": {
     "duration": 0.031273,
     "end_time": "2023-02-12T11:21:00.645381",
     "exception": false,
     "start_time": "2023-02-12T11:21:00.614108",
     "status": "completed"
    },
    "tags": []
   },
   "outputs": [
    {
     "data": {
      "text/plain": [
       "((22373, 3), (9589, 3))"
      ]
     },
     "execution_count": 9,
     "metadata": {},
     "output_type": "execute_result"
    }
   ],
   "source": [
    "# разделим данные на тренировочные и тестовые\n",
    "X_train, X_valid = train_test_split(train_df, test_size=0.3, random_state=42)\n",
    "X_train.shape, X_valid.shape"
   ]
  },
  {
   "cell_type": "code",
   "execution_count": 10,
   "id": "45ad4217",
   "metadata": {
    "execution": {
     "iopub.execute_input": "2023-02-12T11:21:00.667070Z",
     "iopub.status.busy": "2023-02-12T11:21:00.666587Z",
     "iopub.status.idle": "2023-02-12T11:21:00.681070Z",
     "shell.execute_reply": "2023-02-12T11:21:00.679906Z"
    },
    "papermill": {
     "duration": 0.028569,
     "end_time": "2023-02-12T11:21:00.683683",
     "exception": false,
     "start_time": "2023-02-12T11:21:00.655114",
     "status": "completed"
    },
    "tags": []
   },
   "outputs": [
    {
     "data": {
      "text/plain": [
       "0    20815\n",
       "1     1558\n",
       "Name: label, dtype: int64"
      ]
     },
     "execution_count": 10,
     "metadata": {},
     "output_type": "execute_result"
    }
   ],
   "source": [
    "# посмотрим распределение классов\n",
    "X_train.label.value_counts()"
   ]
  },
  {
   "cell_type": "code",
   "execution_count": 11,
   "id": "bf27ffce",
   "metadata": {
    "execution": {
     "iopub.execute_input": "2023-02-12T11:21:00.705334Z",
     "iopub.status.busy": "2023-02-12T11:21:00.704834Z",
     "iopub.status.idle": "2023-02-12T11:21:00.714909Z",
     "shell.execute_reply": "2023-02-12T11:21:00.713795Z"
    },
    "papermill": {
     "duration": 0.023703,
     "end_time": "2023-02-12T11:21:00.717374",
     "exception": false,
     "start_time": "2023-02-12T11:21:00.693671",
     "status": "completed"
    },
    "tags": []
   },
   "outputs": [
    {
     "data": {
      "text/plain": [
       "0    8905\n",
       "1     684\n",
       "Name: label, dtype: int64"
      ]
     },
     "execution_count": 11,
     "metadata": {},
     "output_type": "execute_result"
    }
   ],
   "source": [
    "X_valid.label.value_counts()"
   ]
  },
  {
   "cell_type": "code",
   "execution_count": 12,
   "id": "19fa2cd7",
   "metadata": {
    "execution": {
     "iopub.execute_input": "2023-02-12T11:21:00.738964Z",
     "iopub.status.busy": "2023-02-12T11:21:00.738464Z",
     "iopub.status.idle": "2023-02-12T11:21:00.746060Z",
     "shell.execute_reply": "2023-02-12T11:21:00.744555Z"
    },
    "papermill": {
     "duration": 0.02135,
     "end_time": "2023-02-12T11:21:00.748546",
     "exception": false,
     "start_time": "2023-02-12T11:21:00.727196",
     "status": "completed"
    },
    "tags": []
   },
   "outputs": [],
   "source": [
    "# список стоп-слов и знаков пунктуации\n",
    "stop_words = set(get_stop_words('en'))\n",
    "puncts = set(punctuation)"
   ]
  },
  {
   "cell_type": "code",
   "execution_count": 13,
   "id": "16493ac1",
   "metadata": {
    "execution": {
     "iopub.execute_input": "2023-02-12T11:21:00.770191Z",
     "iopub.status.busy": "2023-02-12T11:21:00.769615Z",
     "iopub.status.idle": "2023-02-12T11:21:00.776989Z",
     "shell.execute_reply": "2023-02-12T11:21:00.775823Z"
    },
    "papermill": {
     "duration": 0.021308,
     "end_time": "2023-02-12T11:21:00.779591",
     "exception": false,
     "start_time": "2023-02-12T11:21:00.758283",
     "status": "completed"
    },
    "tags": []
   },
   "outputs": [],
   "source": [
    "morpher = WordNetLemmatizer()\n",
    "def preprocess_text(txt):\n",
    "    txt = str(txt)\n",
    "    # удаляем знаки препинания\n",
    "    txt = ''.join(symbol for symbol in txt if symbol not in puncts)\n",
    "    txt = txt.lower()\n",
    "    # удаляем слова из стоп-листа\n",
    "    txt = [morpher.lemmatize(word) for word in txt.split() if word not in stop_words]\n",
    "    return ' '.join(txt)"
   ]
  },
  {
   "cell_type": "code",
   "execution_count": 14,
   "id": "1d6d2b87",
   "metadata": {
    "execution": {
     "iopub.execute_input": "2023-02-12T11:21:00.801837Z",
     "iopub.status.busy": "2023-02-12T11:21:00.800922Z",
     "iopub.status.idle": "2023-02-12T11:21:06.059555Z",
     "shell.execute_reply": "2023-02-12T11:21:06.058189Z"
    },
    "papermill": {
     "duration": 5.272948,
     "end_time": "2023-02-12T11:21:06.062511",
     "exception": false,
     "start_time": "2023-02-12T11:21:00.789563",
     "status": "completed"
    },
    "tags": []
   },
   "outputs": [
    {
     "name": "stderr",
     "output_type": "stream",
     "text": [
      "100%|██████████| 22373/22373 [00:03<00:00, 6465.25it/s] \n",
      "100%|██████████| 9589/9589 [00:00<00:00, 15155.84it/s]\n",
      "100%|██████████| 17197/17197 [00:01<00:00, 15161.96it/s]\n"
     ]
    }
   ],
   "source": [
    "tqdm.pandas()\n",
    "\n",
    "X_train['tweet'] = X_train['tweet'].progress_apply(preprocess_text)\n",
    "X_valid['tweet'] = X_valid['tweet'].progress_apply(preprocess_text)\n",
    "test_df['tweet'] = test_df['tweet'].progress_apply(preprocess_text)"
   ]
  },
  {
   "cell_type": "code",
   "execution_count": 15,
   "id": "2ee516de",
   "metadata": {
    "execution": {
     "iopub.execute_input": "2023-02-12T11:21:06.090430Z",
     "iopub.status.busy": "2023-02-12T11:21:06.089343Z",
     "iopub.status.idle": "2023-02-12T11:21:06.899602Z",
     "shell.execute_reply": "2023-02-12T11:21:06.898218Z"
    },
    "papermill": {
     "duration": 0.827586,
     "end_time": "2023-02-12T11:21:06.902828",
     "exception": false,
     "start_time": "2023-02-12T11:21:06.075242",
     "status": "completed"
    },
    "tags": []
   },
   "outputs": [
    {
     "data": {
      "text/plain": [
       "['summer',\n",
       " 'timeð\\x9f\\x8c',\n",
       " 'summeriscoming',\n",
       " 'swimming',\n",
       " 'picoftheday',\n",
       " 'tattoo',\n",
       " 'issho',\n",
       " 'pulsera',\n",
       " 'fluyendo',\n",
       " 'â\\x80¦']"
      ]
     },
     "execution_count": 15,
     "metadata": {},
     "output_type": "execute_result"
    }
   ],
   "source": [
    "# генерация токенов\n",
    "tokens = word_tokenize(\" \".join(X_train[\"tweet\"]).lower())\n",
    "tokens[:10]"
   ]
  },
  {
   "cell_type": "code",
   "execution_count": 16,
   "id": "02718f7a",
   "metadata": {
    "execution": {
     "iopub.execute_input": "2023-02-12T11:21:06.931294Z",
     "iopub.status.busy": "2023-02-12T11:21:06.930722Z",
     "iopub.status.idle": "2023-02-12T11:21:06.967325Z",
     "shell.execute_reply": "2023-02-12T11:21:06.966022Z"
    },
    "papermill": {
     "duration": 0.054178,
     "end_time": "2023-02-12T11:21:06.970374",
     "exception": false,
     "start_time": "2023-02-12T11:21:06.916196",
     "status": "completed"
    },
    "tags": []
   },
   "outputs": [
    {
     "data": {
      "text/plain": [
       "['summer',\n",
       " 'summeriscoming',\n",
       " 'swimming',\n",
       " 'picoftheday',\n",
       " 'tattoo',\n",
       " 'issho',\n",
       " 'pulsera',\n",
       " 'fluyendo',\n",
       " 'dese',\n",
       " 'nigga']"
      ]
     },
     "execution_count": 16,
     "metadata": {},
     "output_type": "execute_result"
    }
   ],
   "source": [
    "# фильтр, чтобы оставить только цифры и слова\n",
    "tokens_filtered = [word for word in tokens if word.isalnum()]\n",
    "tokens_filtered[:10]"
   ]
  },
  {
   "cell_type": "code",
   "execution_count": 17,
   "id": "f18d601b",
   "metadata": {
    "execution": {
     "iopub.execute_input": "2023-02-12T11:21:06.998997Z",
     "iopub.status.busy": "2023-02-12T11:21:06.997491Z",
     "iopub.status.idle": "2023-02-12T11:21:07.150483Z",
     "shell.execute_reply": "2023-02-12T11:21:07.148959Z"
    },
    "papermill": {
     "duration": 0.170698,
     "end_time": "2023-02-12T11:21:07.153963",
     "exception": false,
     "start_time": "2023-02-12T11:21:06.983265",
     "status": "completed"
    },
    "tags": []
   },
   "outputs": [],
   "source": [
    "# частота вхождения токенов\n",
    "dist = FreqDist(tokens_filtered)"
   ]
  },
  {
   "cell_type": "code",
   "execution_count": 18,
   "id": "1c94cf15",
   "metadata": {
    "execution": {
     "iopub.execute_input": "2023-02-12T11:21:07.182128Z",
     "iopub.status.busy": "2023-02-12T11:21:07.181013Z",
     "iopub.status.idle": "2023-02-12T11:21:07.219283Z",
     "shell.execute_reply": "2023-02-12T11:21:07.217859Z"
    },
    "papermill": {
     "duration": 0.055546,
     "end_time": "2023-02-12T11:21:07.222329",
     "exception": false,
     "start_time": "2023-02-12T11:21:07.166783",
     "status": "completed"
    },
    "tags": []
   },
   "outputs": [
    {
     "data": {
      "text/plain": [
       "(1999,\n",
       " ['user', 'love', 'day', 'happy', 'u', 'amp', 'just', 'will', 'time', 'life'])"
      ]
     },
     "execution_count": 18,
     "metadata": {},
     "output_type": "execute_result"
    }
   ],
   "source": [
    "# топ частых слов\n",
    "max_words = 2000\n",
    "# 2000 самых частых\n",
    "tokens_filtered_top = [pair[0] for pair in dist.most_common(max_words-1)]  # вычитание 1 для padding\n",
    "len(tokens_filtered_top), tokens_filtered_top[:10]"
   ]
  },
  {
   "cell_type": "code",
   "execution_count": 19,
   "id": "388263f3",
   "metadata": {
    "execution": {
     "iopub.execute_input": "2023-02-12T11:21:07.251838Z",
     "iopub.status.busy": "2023-02-12T11:21:07.251275Z",
     "iopub.status.idle": "2023-02-12T11:21:07.260374Z",
     "shell.execute_reply": "2023-02-12T11:21:07.258898Z"
    },
    "papermill": {
     "duration": 0.028122,
     "end_time": "2023-02-12T11:21:07.263409",
     "exception": false,
     "start_time": "2023-02-12T11:21:07.235287",
     "status": "completed"
    },
    "tags": []
   },
   "outputs": [
    {
     "name": "stdout",
     "output_type": "stream",
     "text": [
      "user: 1\n",
      "love: 2\n",
      "day: 3\n",
      "happy: 4\n",
      "u: 5\n",
      "amp: 6\n",
      "just: 7\n",
      "will: 8\n",
      "time: 9\n",
      "life: 10\n"
     ]
    }
   ],
   "source": [
    "# словарь из частых слов и присвоение им индексов\n",
    "vocabulary = {token: index for index, token in dict(enumerate(tokens_filtered_top, 1)).items()}\n",
    "for token, idx in vocabulary.items():\n",
    "    print(f'{token}: {idx}')\n",
    "    if idx == 10:\n",
    "        break"
   ]
  },
  {
   "cell_type": "code",
   "execution_count": 20,
   "id": "97d8d9dc",
   "metadata": {
    "execution": {
     "iopub.execute_input": "2023-02-12T11:21:07.292227Z",
     "iopub.status.busy": "2023-02-12T11:21:07.291652Z",
     "iopub.status.idle": "2023-02-12T11:21:07.300159Z",
     "shell.execute_reply": "2023-02-12T11:21:07.298685Z"
    },
    "papermill": {
     "duration": 0.026595,
     "end_time": "2023-02-12T11:21:07.303215",
     "exception": false,
     "start_time": "2023-02-12T11:21:07.276620",
     "status": "completed"
    },
    "tags": []
   },
   "outputs": [],
   "source": [
    "# преобразование текста в последовательность\n",
    "def text_to_sequence(text, maxlen):\n",
    "    result = []\n",
    "    tokens = word_tokenize(text.lower())  # токенизация\n",
    "    tokens_filtered = [word for word in tokens if word.isalnum()] # фильтруем (только буквы и цифры)\n",
    "    for word in tokens_filtered:\n",
    "        if word in vocabulary:\n",
    "            result.append(vocabulary[word]) # если слово в топе токенов, то добавляем его индекс в результат\n",
    "\n",
    "    padding = [0] * (maxlen-len(result)) # нули дополняющие до maxlen\n",
    "    return result[-maxlen:] + padding"
   ]
  },
  {
   "cell_type": "code",
   "execution_count": 21,
   "id": "f9d97ab6",
   "metadata": {
    "execution": {
     "iopub.execute_input": "2023-02-12T11:21:07.333488Z",
     "iopub.status.busy": "2023-02-12T11:21:07.332507Z",
     "iopub.status.idle": "2023-02-12T11:21:13.685466Z",
     "shell.execute_reply": "2023-02-12T11:21:13.684128Z"
    },
    "papermill": {
     "duration": 6.371323,
     "end_time": "2023-02-12T11:21:13.688214",
     "exception": false,
     "start_time": "2023-02-12T11:21:07.316891",
     "status": "completed"
    },
    "tags": []
   },
   "outputs": [
    {
     "data": {
      "text/plain": [
       "((22373, 20), (9589, 20), (17197, 20))"
      ]
     },
     "execution_count": 21,
     "metadata": {},
     "output_type": "execute_result"
    }
   ],
   "source": [
    "max_len = 20\n",
    "x_train = np.asarray([text_to_sequence(text, max_len) for text in X_train['tweet']])\n",
    "x_valid = np.asarray([text_to_sequence(text, max_len) for text in X_valid['tweet']])\n",
    "x_test = np.asarray([text_to_sequence(text, max_len) for text in test_df['tweet']])\n",
    "\n",
    "x_train.shape, x_valid.shape, x_test.shape"
   ]
  },
  {
   "cell_type": "code",
   "execution_count": 22,
   "id": "add81fc4",
   "metadata": {
    "execution": {
     "iopub.execute_input": "2023-02-12T11:21:13.716596Z",
     "iopub.status.busy": "2023-02-12T11:21:13.715772Z",
     "iopub.status.idle": "2023-02-12T11:21:13.724871Z",
     "shell.execute_reply": "2023-02-12T11:21:13.723570Z"
    },
    "papermill": {
     "duration": 0.026993,
     "end_time": "2023-02-12T11:21:13.727982",
     "exception": false,
     "start_time": "2023-02-12T11:21:13.700989",
     "status": "completed"
    },
    "tags": []
   },
   "outputs": [],
   "source": [
    "class DataWrapper(Dataset):\n",
    "    def __init__(self, data, target, transform=None):\n",
    "        self.data = torch.from_numpy(data).long() # преобразуем в целочисленный тензор\n",
    "        self.target = torch.from_numpy(target).long() # преобразуем в целочисленный тензор\n",
    "        self.transform = transform\n",
    "        \n",
    "    def __getitem__(self, index):\n",
    "        x = self.data[index]  # индексация данных\n",
    "        y = self.target[index]  # индексация целевой переменной\n",
    "        \n",
    "        if self.transform:\n",
    "            x = self.transform(x)\n",
    "            \n",
    "        return x, y\n",
    "    \n",
    "    def __len__(self):\n",
    "        return len(self.data)"
   ]
  },
  {
   "cell_type": "code",
   "execution_count": 23,
   "id": "25fbd184",
   "metadata": {
    "execution": {
     "iopub.execute_input": "2023-02-12T11:21:13.756141Z",
     "iopub.status.busy": "2023-02-12T11:21:13.755585Z",
     "iopub.status.idle": "2023-02-12T11:21:13.762918Z",
     "shell.execute_reply": "2023-02-12T11:21:13.761594Z"
    },
    "papermill": {
     "duration": 0.024579,
     "end_time": "2023-02-12T11:21:13.765432",
     "exception": false,
     "start_time": "2023-02-12T11:21:13.740853",
     "status": "completed"
    },
    "tags": []
   },
   "outputs": [],
   "source": [
    "train_dataset = DataWrapper(x_train, X_train.label.values)\n",
    "train_loader = DataLoader(train_dataset, batch_size=100, shuffle=True)\n",
    "\n",
    "valid_dataset = DataWrapper(x_valid, X_valid.label.values)\n",
    "valid_loader = DataLoader(valid_dataset, batch_size=8, shuffle=True)"
   ]
  },
  {
   "cell_type": "markdown",
   "id": "6dbc42bf",
   "metadata": {
    "papermill": {
     "duration": 0.01229,
     "end_time": "2023-02-12T11:21:13.790620",
     "exception": false,
     "start_time": "2023-02-12T11:21:13.778330",
     "status": "completed"
    },
    "tags": []
   },
   "source": [
    "### Построение и обучение модели"
   ]
  },
  {
   "cell_type": "code",
   "execution_count": 24,
   "id": "2a8238fa",
   "metadata": {
    "execution": {
     "iopub.execute_input": "2023-02-12T11:21:13.818524Z",
     "iopub.status.busy": "2023-02-12T11:21:13.818002Z",
     "iopub.status.idle": "2023-02-12T11:21:13.830128Z",
     "shell.execute_reply": "2023-02-12T11:21:13.828792Z"
    },
    "papermill": {
     "duration": 0.029609,
     "end_time": "2023-02-12T11:21:13.832928",
     "exception": false,
     "start_time": "2023-02-12T11:21:13.803319",
     "status": "completed"
    },
    "tags": []
   },
   "outputs": [],
   "source": [
    "class Net(nn.Module):\n",
    "    def __init__(self, vocab_size=2000, embedding_dim=128, out_channel=128, num_classes = 1):\n",
    "        super().__init__()\n",
    "        self.embedding = nn.Embedding(vocab_size, embedding_dim)\n",
    "        self.conv_1 = nn.Conv1d(embedding_dim, out_channel, kernel_size=2)\n",
    "        self.conv_2 = nn.Conv1d(embedding_dim, out_channel, kernel_size=3)\n",
    "        self.pool = nn.MaxPool1d(2)\n",
    "        self.relu = nn.ReLU()\n",
    "        self.linear_1 = nn.Linear(out_channel, out_channel // 2)\n",
    "        self.linear_2 = nn.Linear(out_channel // 2, num_classes)\n",
    "        \n",
    "    def forward(self, x):        \n",
    "        output = self.embedding(x) # B, L, E\n",
    "        #                       B  E  L         \n",
    "        output = output.permute(0, 2, 1)\n",
    "        output = self.conv_1(output)\n",
    "        output = self.relu(output)\n",
    "        output = self.pool(output)\n",
    "\n",
    "        output = self.conv_2(output)\n",
    "        output = self.relu(output)\n",
    "        output = self.pool(output)\n",
    "        output = torch.max(output, axis=2).values\n",
    "        output = self.linear_1(output)\n",
    "        output = self.relu(output)\n",
    "        output = self.linear_2(output)\n",
    "        output = torch.sigmoid(output)\n",
    "        return output"
   ]
  },
  {
   "cell_type": "code",
   "execution_count": 25,
   "id": "2359505d",
   "metadata": {
    "execution": {
     "iopub.execute_input": "2023-02-12T11:21:13.861793Z",
     "iopub.status.busy": "2023-02-12T11:21:13.861308Z",
     "iopub.status.idle": "2023-02-12T11:21:13.869345Z",
     "shell.execute_reply": "2023-02-12T11:21:13.868107Z"
    },
    "papermill": {
     "duration": 0.025479,
     "end_time": "2023-02-12T11:21:13.871749",
     "exception": false,
     "start_time": "2023-02-12T11:21:13.846270",
     "status": "completed"
    },
    "tags": []
   },
   "outputs": [
    {
     "data": {
      "text/plain": [
       "device(type='cpu')"
      ]
     },
     "execution_count": 25,
     "metadata": {},
     "output_type": "execute_result"
    }
   ],
   "source": [
    "device = torch.device('cuda:0' if torch.cuda.is_available() else 'cpu')\n",
    "device"
   ]
  },
  {
   "cell_type": "code",
   "execution_count": 26,
   "id": "a3326e23",
   "metadata": {
    "execution": {
     "iopub.execute_input": "2023-02-12T11:21:13.900180Z",
     "iopub.status.busy": "2023-02-12T11:21:13.899652Z",
     "iopub.status.idle": "2023-02-12T11:21:13.919071Z",
     "shell.execute_reply": "2023-02-12T11:21:13.918045Z"
    },
    "papermill": {
     "duration": 0.037656,
     "end_time": "2023-02-12T11:21:13.922554",
     "exception": false,
     "start_time": "2023-02-12T11:21:13.884898",
     "status": "completed"
    },
    "tags": []
   },
   "outputs": [
    {
     "name": "stdout",
     "output_type": "stream",
     "text": [
      "Net(\n",
      "  (embedding): Embedding(2000, 128)\n",
      "  (conv_1): Conv1d(128, 128, kernel_size=(2,), stride=(1,))\n",
      "  (conv_2): Conv1d(128, 128, kernel_size=(3,), stride=(1,))\n",
      "  (pool): MaxPool1d(kernel_size=2, stride=2, padding=0, dilation=1, ceil_mode=False)\n",
      "  (relu): ReLU()\n",
      "  (linear_1): Linear(in_features=128, out_features=64, bias=True)\n",
      "  (linear_2): Linear(in_features=64, out_features=1, bias=True)\n",
      ")\n"
     ]
    }
   ],
   "source": [
    "model = Net().to(device)\n",
    "print(model)"
   ]
  },
  {
   "cell_type": "code",
   "execution_count": 27,
   "id": "409ae34d",
   "metadata": {
    "execution": {
     "iopub.execute_input": "2023-02-12T11:21:13.951332Z",
     "iopub.status.busy": "2023-02-12T11:21:13.950795Z",
     "iopub.status.idle": "2023-02-12T11:21:13.957674Z",
     "shell.execute_reply": "2023-02-12T11:21:13.956391Z"
    },
    "papermill": {
     "duration": 0.024057,
     "end_time": "2023-02-12T11:21:13.960284",
     "exception": false,
     "start_time": "2023-02-12T11:21:13.936227",
     "status": "completed"
    },
    "tags": []
   },
   "outputs": [],
   "source": [
    "optimizer = torch.optim.Adam(model.parameters(), lr=1e-4)\n",
    "criterion = nn.BCELoss() "
   ]
  },
  {
   "cell_type": "code",
   "execution_count": 28,
   "id": "e2f2fe91",
   "metadata": {
    "execution": {
     "iopub.execute_input": "2023-02-12T11:21:13.989188Z",
     "iopub.status.busy": "2023-02-12T11:21:13.988625Z",
     "iopub.status.idle": "2023-02-12T11:22:26.221584Z",
     "shell.execute_reply": "2023-02-12T11:22:26.220222Z"
    },
    "papermill": {
     "duration": 72.250916,
     "end_time": "2023-02-12T11:22:26.224584",
     "exception": false,
     "start_time": "2023-02-12T11:21:13.973668",
     "status": "completed"
    },
    "tags": []
   },
   "outputs": [
    {
     "name": "stdout",
     "output_type": "stream",
     "text": [
      "Epoch [1/10]. Step [1/224]. Loss: 0.736. Acc: 0.080. Val loss: 0.734. Val acc: 0.073\n",
      "Epoch [1/10]. Step [151/224]. Loss: 0.307. Acc: 0.914. Val loss: 0.599. Val acc: 0.929\n",
      "Epoch [2/10]. Step [1/224]. Loss: 0.173. Acc: 0.960. Val loss: 0.583. Val acc: 0.929\n",
      "Epoch [2/10]. Step [151/224]. Loss: 0.322. Acc: 0.931. Val loss: 1.040. Val acc: 0.929\n",
      "Epoch [3/10]. Step [1/224]. Loss: 0.177. Acc: 0.960. Val loss: 0.076. Val acc: 0.929\n",
      "Epoch [3/10]. Step [151/224]. Loss: 0.156. Acc: 0.931. Val loss: 0.061. Val acc: 0.929\n",
      "Epoch [4/10]. Step [1/224]. Loss: 0.161. Acc: 0.960. Val loss: 0.104. Val acc: 0.929\n",
      "Epoch [4/10]. Step [151/224]. Loss: 0.198. Acc: 0.930. Val loss: 0.047. Val acc: 0.929\n",
      "Epoch [5/10]. Step [1/224]. Loss: 0.204. Acc: 0.910. Val loss: 0.092. Val acc: 0.930\n",
      "Epoch [5/10]. Step [151/224]. Loss: 0.130. Acc: 0.936. Val loss: 0.062. Val acc: 0.937\n",
      "Epoch [6/10]. Step [1/224]. Loss: 0.179. Acc: 0.920. Val loss: 0.037. Val acc: 0.936\n",
      "Epoch [6/10]. Step [151/224]. Loss: 0.234. Acc: 0.944. Val loss: 0.025. Val acc: 0.941\n",
      "Epoch [7/10]. Step [1/224]. Loss: 0.093. Acc: 0.980. Val loss: 0.023. Val acc: 0.941\n",
      "Epoch [7/10]. Step [151/224]. Loss: 0.252. Acc: 0.952. Val loss: 0.091. Val acc: 0.943\n",
      "Epoch [8/10]. Step [1/224]. Loss: 0.092. Acc: 0.970. Val loss: 0.002. Val acc: 0.944\n",
      "Epoch [8/10]. Step [151/224]. Loss: 0.129. Acc: 0.956. Val loss: 0.073. Val acc: 0.945\n",
      "Epoch [9/10]. Step [1/224]. Loss: 0.166. Acc: 0.950. Val loss: 0.038. Val acc: 0.946\n",
      "Epoch [9/10]. Step [151/224]. Loss: 0.087. Acc: 0.962. Val loss: 0.024. Val acc: 0.946\n",
      "Epoch [10/10]. Step [1/224]. Loss: 0.103. Acc: 0.970. Val loss: 0.136. Val acc: 0.945\n",
      "Epoch [10/10]. Step [151/224]. Loss: 0.135. Acc: 0.964. Val loss: 0.021. Val acc: 0.948\n",
      "Training is finished!\n"
     ]
    }
   ],
   "source": [
    "#обучение модели\n",
    "model.train()\n",
    "th = 0.5\n",
    "epochs = 10\n",
    "\n",
    "train_loss_history = []\n",
    "valid_loss_history = []\n",
    "\n",
    "\n",
    "for epoch in range(epochs):  \n",
    "    running_items, running_right = 0.0, 0.0\n",
    "    for i, data in enumerate(train_loader, 0):\n",
    "        inputs, labels = data[0].to(device), data[1].to(device)\n",
    "        \n",
    "        # обучение\n",
    "        optimizer.zero_grad()\n",
    "        outputs = model(inputs)\n",
    "        loss = criterion(outputs, labels.float().view(-1, 1))\n",
    "        loss.backward()\n",
    "        optimizer.step()\n",
    "\n",
    "        # подсчет ошибки на обучении\n",
    "        loss = loss.item()\n",
    "        running_items += len(labels)\n",
    "       \n",
    "        # подсчет метрики на обучении\n",
    "        pred_labels = torch.squeeze((outputs > th).int())\n",
    "        running_right += (labels == pred_labels).sum()\n",
    "        \n",
    "        # выводим статистику о процессе обучения\n",
    "        if i % 150 == 0:    # печатаем каждые 150 batches\n",
    "            model.eval()\n",
    "            \n",
    "            print(f'Epoch [{epoch + 1}/{epochs}]. ' \\\n",
    "                  f'Step [{i + 1}/{len(train_loader)}]. ' \\\n",
    "                  f'Loss: {loss:.3f}. ' \\\n",
    "                  f'Acc: {running_right / running_items:.3f}', end='. ')\n",
    "            running_loss, running_items, running_right = 0.0, 0.0, 0.0\n",
    "            train_loss_history.append(loss)\n",
    "\n",
    "            # выводим статистику на тестовых данных\n",
    "            test_running_right, test_running_total, test_loss = 0.0, 0.0, 0.0\n",
    "            for j, data in enumerate(valid_loader):\n",
    "                test_labels = data[1].to(device)\n",
    "                test_outputs = model(data[0].to(device))\n",
    "                \n",
    "                # подсчет ошибки на тесте\n",
    "                test_loss = criterion(test_outputs, test_labels.float().view(-1, 1))\n",
    "                # подсчет метрики на тесте\n",
    "                test_running_total += len(data[1])\n",
    "                pred_test_labels = torch.squeeze((test_outputs > th).int())\n",
    "                test_running_right += (test_labels == pred_test_labels).sum()\n",
    "            \n",
    "            valid_loss_history.append(test_loss.item())\n",
    "            print(f'Val loss: {test_loss:.3f}. Val acc: {test_running_right / test_running_total:.3f}')\n",
    "        \n",
    "        model.train()\n",
    "        \n",
    "print('Training is finished!')"
   ]
  },
  {
   "cell_type": "code",
   "execution_count": 29,
   "id": "daae18bb",
   "metadata": {
    "execution": {
     "iopub.execute_input": "2023-02-12T11:22:26.258277Z",
     "iopub.status.busy": "2023-02-12T11:22:26.257215Z",
     "iopub.status.idle": "2023-02-12T11:22:26.536411Z",
     "shell.execute_reply": "2023-02-12T11:22:26.535183Z"
    },
    "papermill": {
     "duration": 0.29889,
     "end_time": "2023-02-12T11:22:26.539343",
     "exception": false,
     "start_time": "2023-02-12T11:22:26.240453",
     "status": "completed"
    },
    "tags": []
   },
   "outputs": [
    {
     "data": {
      "text/plain": [
       "<matplotlib.legend.Legend at 0x7f550f8b0b90>"
      ]
     },
     "execution_count": 29,
     "metadata": {},
     "output_type": "execute_result"
    },
    {
     "data": {
      "image/png": "[encoded data removed]",
      "text/plain": [
       "<Figure size 432x288 with 1 Axes>"
      ]
     },
     "metadata": {
      "needs_background": "light"
     },
     "output_type": "display_data"
    }
   ],
   "source": [
    "plt.title('Loss history')\n",
    "plt.grid(True)\n",
    "plt.ylabel('Loss')\n",
    "plt.xlabel('Step')\n",
    "plt.plot(train_loss_history, label='train')\n",
    "plt.plot(valid_loss_history, label='valid')\n",
    "plt.legend()"
   ]
  },
  {
   "cell_type": "markdown",
   "id": "04231aa6",
   "metadata": {
    "papermill": {
     "duration": 0.015453,
     "end_time": "2023-02-12T11:22:26.570810",
     "exception": false,
     "start_time": "2023-02-12T11:22:26.555357",
     "status": "completed"
    },
    "tags": []
   },
   "source": [
    "1.  Число эпох в данной модели не сильно влияет на значения метрики. Метрики на валидации примерно одинаковые с первой эпохи.\n",
    "2. Модель довольно простая. Можно менять различные её параметры, и это не сильно скажется на результатах её обучения.\n",
    "3. На графике можно наблюдать, что лосс иногда подскакивает. Вероятно, это связано с дисбалансом классов."
   ]
  }
 ],
 "metadata": {
  "kernelspec": {
   "display_name": "Python 3",
   "language": "python",
   "name": "python3"
  },
  "language_info": {
   "codemirror_mode": {
    "name": "ipython",
    "version": 3
   },
   "file_extension": ".py",
   "mimetype": "text/x-python",
   "name": "python",
   "nbconvert_exporter": "python",
   "pygments_lexer": "ipython3",
   "version": "3.7.12"
  },
  "papermill": {
   "default_parameters": {},
   "duration": 114.912389,
   "end_time": "2023-02-12T11:22:28.315943",
   "environment_variables": {},
   "exception": null,
   "input_path": "__notebook__.ipynb",
   "output_path": "__notebook__.ipynb",
   "parameters": {},
   "start_time": "2023-02-12T11:20:33.403554",
   "version": "2.3.4"
  }
 },
 "nbformat": 4,
 "nbformat_minor": 5
}
