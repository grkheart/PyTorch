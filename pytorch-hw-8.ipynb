{
  "nbformat": 4,
  "nbformat_minor": 0,
  "metadata": {
    "kernelspec": {
      "display_name": "Python 3",
      "language": "python",
      "name": "python3"
    },
    "language_info": {
      "codemirror_mode": {
        "name": "ipython",
        "version": 3
      },
      "file_extension": ".py",
      "mimetype": "text/x-python",
      "name": "python",
      "nbconvert_exporter": "python",
      "pygments_lexer": "ipython3",
      "version": "3.8.3"
    },
    "colab": {
      "name": "PT_hw_8.ipynb",
      "provenance": [],
      "collapsed_sections": []
    },
    "accelerator": "GPU"
  },
  "cells": [
    {
      "cell_type": "markdown",
      "source": [
        "# Урок 8. Generative Adversarial Networks"
      ],
      "metadata": {
        "id": "I0MidIW-UA2_"
      }
    },
    {
      "cell_type": "markdown",
      "source": [
        "## Домашнее задание"
      ],
      "metadata": {
        "id": "3BDAHXbnUfcj"
      }
    },
    {
      "cell_type": "markdown",
      "source": [
        "Обучить генератор создавать точки, которые будут лежать на графике функции\n",
        "y = sin(x)/x - x/10\n",
        "\n",
        "При выполнении данного задания структура GAN остается той же, но Вам нужно:\n",
        "1. Сгенерировать настоящие данные\n",
        "2. Изменить архитектуру дискриминатора и генератора\n",
        "3. Построить графики"
      ],
      "metadata": {
        "id": "UIfnh6j1Uka2"
      }
    },
    {
      "cell_type": "markdown",
      "source": [
        "### Подключение библиотек"
      ],
      "metadata": {
        "id": "h39_5I3JUyO2"
      }
    },
    {
      "cell_type": "code",
      "metadata": {
        "id": "fBfI1BtV0w_-"
      },
      "source": [
        "import os\n",
        "import numpy as np\n",
        "import math\n",
        "\n",
        "from torch.utils.data import DataLoader\n",
        "import torchvision.transforms as transforms\n",
        "from torchvision import datasets\n",
        "from torch.autograd import Variable\n",
        "\n",
        "import torch.nn as nn\n",
        "import torch\n",
        "\n",
        "import matplotlib.pyplot as plt\n",
        "from IPython import display\n",
        "from torchvision.utils import save_image, make_grid\n",
        "import matplotlib.patches as mpatches\n",
        "from matplotlib.pyplot import figure"
      ],
      "execution_count": 1,
      "outputs": []
    },
    {
      "cell_type": "code",
      "metadata": {
        "id": "SN5hVmRV4KGv",
        "colab": {
          "base_uri": "https://localhost:8080/"
        },
        "outputId": "055b3b41-faa4-4a05-89e1-614a004c5733"
      },
      "source": [
        "use_cuda = torch.cuda.is_available()\n",
        "device = torch.device('cuda') if torch.cuda.is_available() else torch.device('cpu')\n",
        "print(device)"
      ],
      "execution_count": 2,
      "outputs": [
        {
          "output_type": "stream",
          "name": "stdout",
          "text": [
            "cuda\n"
          ]
        }
      ]
    },
    {
      "cell_type": "markdown",
      "source": [
        "### Подготовка данных"
      ],
      "metadata": {
        "id": "RUgkU7yBVSkI"
      }
    },
    {
      "cell_type": "code",
      "metadata": {
        "id": "bde-5tEzDpQr",
        "colab": {
          "base_uri": "https://localhost:8080/",
          "height": 265
        },
        "outputId": "222e4575-a56e-42f1-eeb1-78024010b5dc"
      },
      "source": [
        "x = np.linspace(-5,5,256*3)\n",
        "\n",
        "def func_y(x):\n",
        "    return np.sin(x)/x - x/10\n",
        "\n",
        "y = func_y(x)\n",
        "\n",
        "plt.plot(x, y)\n",
        "plt.show\n",
        "x_train, y_train = x, y"
      ],
      "execution_count": 3,
      "outputs": [
        {
          "output_type": "display_data",
          "data": {
            "text/plain": [
              "<Figure size 432x288 with 1 Axes>"
            ],
            "image/png": "[encoded data removed]"
          },
          "metadata": {
            "needs_background": "light"
          }
        }
      ]
    },
    {
      "cell_type": "code",
      "metadata": {
        "id": "Ga7Xxve0DpQv",
        "colab": {
          "base_uri": "https://localhost:8080/"
        },
        "outputId": "88f93496-5d42-4889-94e6-ed33ffc8212e"
      },
      "source": [
        "train = np.array([x_train[0], y_train[0]])\n",
        "for i in range(1, len(x_train)):\n",
        "  \n",
        "  new_arr = [x_train[i], y_train[i]]\n",
        "  train = np.vstack([train, new_arr])\n",
        "train[:5]"
      ],
      "execution_count": 4,
      "outputs": [
        {
          "output_type": "execute_result",
          "data": {
            "text/plain": [
              "array([[-5.        ,  0.30821515],\n",
              "       [-4.98696219,  0.30568473],\n",
              "       [-4.97392438,  0.30318078],\n",
              "       [-4.96088657,  0.30070362],\n",
              "       [-4.94784876,  0.29825357]])"
            ]
          },
          "metadata": {},
          "execution_count": 4
        }
      ]
    },
    {
      "cell_type": "code",
      "metadata": {
        "id": "_yd_LgT8LKDy"
      },
      "source": [
        "n_epochs = 200\n",
        "batch_size = 256\n",
        "lr = 0.0002\n",
        "\n",
        "b1 = 0.5\n",
        "b2 = 0.999\n",
        "\n",
        "hidden_dim = 20\n",
        "\n",
        "noise_min = -1.0\n",
        "noise_max = 1.0"
      ],
      "execution_count": 5,
      "outputs": []
    },
    {
      "cell_type": "code",
      "metadata": {
        "id": "uFZDUmGjJSRN"
      },
      "source": [
        "trainloader = torch.utils.data.DataLoader(train, batch_size=batch_size, shuffle=True, num_workers=2)"
      ],
      "execution_count": 7,
      "outputs": []
    },
    {
      "cell_type": "code",
      "metadata": {
        "id": "deO2QmGw5S04",
        "colab": {
          "base_uri": "https://localhost:8080/"
        },
        "outputId": "24da2ee3-5142-4597-e006-04b28838b670"
      },
      "source": [
        "SAMPLES_COUNT_IN_DATASET = trainloader.dataset.data.shape[0]\n",
        "SAMPLES_COUNT_IN_DATASET"
      ],
      "execution_count": 8,
      "outputs": [
        {
          "output_type": "execute_result",
          "data": {
            "text/plain": [
              "768"
            ]
          },
          "metadata": {},
          "execution_count": 8
        }
      ]
    },
    {
      "cell_type": "code",
      "metadata": {
        "id": "19g2BKlIHBwa",
        "colab": {
          "base_uri": "https://localhost:8080/"
        },
        "outputId": "3e46c2c1-4d43-477b-be7c-6934abdb5606"
      },
      "source": [
        "BATCHES_IN_DATA_COUNT = math.ceil(SAMPLES_COUNT_IN_DATASET / batch_size)\n",
        "BATCHES_IN_DATA_COUNT"
      ],
      "execution_count": 9,
      "outputs": [
        {
          "output_type": "execute_result",
          "data": {
            "text/plain": [
              "3"
            ]
          },
          "metadata": {},
          "execution_count": 9
        }
      ]
    },
    {
      "cell_type": "markdown",
      "source": [
        "### Построение и обучение модели"
      ],
      "metadata": {
        "id": "Dhplj3GHXDmz"
      }
    },
    {
      "cell_type": "code",
      "metadata": {
        "id": "SVtvvrvHEwHJ"
      },
      "source": [
        "class Generator(nn.Module):\n",
        "    def __init__(self):\n",
        "        super().__init__()\n",
        "        \n",
        "        def block(in_feat, out_feat, normalize=True): #activation='relu\n",
        "            layers = [nn.Linear(in_feat, out_feat)]\n",
        "            if normalize:\n",
        "                layers.append(nn.BatchNorm1d(out_feat, 0.8))\n",
        "            layers.append(nn.LeakyReLU(0.2, inplace=True))\n",
        "            return layers\n",
        "\n",
        "        self.model = nn.Sequential(\n",
        "            *block(20, 128, normalize=False),\n",
        "            *block(128, 256),\n",
        "            *block(256, 512),\n",
        "            *block(512, 1024),\n",
        "            nn.Linear(1024, 2)\n",
        "        )\n",
        "\n",
        "    def forward(self, z):\n",
        "        img = self.model(z)\n",
        "        return img\n"
      ],
      "execution_count": 10,
      "outputs": []
    },
    {
      "cell_type": "code",
      "metadata": {
        "id": "a2VUbP_EKuLZ"
      },
      "source": [
        "gen_model = Generator().double().to(device)"
      ],
      "execution_count": 12,
      "outputs": []
    },
    {
      "cell_type": "code",
      "metadata": {
        "id": "pPKjiI_X1nDf"
      },
      "source": [
        "class CustomLinearLayer(nn.Module):\n",
        "    def __init__(self, size_in, size_out):\n",
        "        super().__init__()\n",
        "        self.size_in, self.size_out = size_in, size_out\n",
        "        \n",
        "        weights = torch.Tensor(size_out, size_in)\n",
        "        self.weights = nn.Parameter(weights) \n",
        "\n",
        "        bias = torch.Tensor(size_out)\n",
        "        self.bias = nn.Parameter(bias)\n",
        "\n",
        "        nn.init.uniform_(self.weights, -0.1, 0.1) \n",
        "        nn.init.uniform_(self.bias, -0.1, 0.1) \n",
        "\n",
        "    def forward(self, x):\n",
        "        w_times_x = torch.mm(x, self.weights.t())\n",
        "        return torch.add(w_times_x, self.bias)  "
      ],
      "execution_count": 11,
      "outputs": []
    },
    {
      "cell_type": "code",
      "metadata": {
        "id": "n9UtjaY6LngW"
      },
      "source": [
        "class Discriminator(nn.Module):\n",
        "    def __init__(self):\n",
        "        super().__init__()\n",
        "\n",
        "        self.model = nn.Sequential(\n",
        "            CustomLinearLayer(2, 512),\n",
        "            nn.LeakyReLU(0.2, inplace=True),\n",
        "            CustomLinearLayer(512, 256),\n",
        "            nn.LeakyReLU(0.2, inplace=True),\n",
        "            CustomLinearLayer(256, 1),\n",
        "            nn.Sigmoid(),\n",
        "        )\n",
        "  \n",
        "\n",
        "    def forward(self, coords):\n",
        "        coords_flat = coords.view(coords.size(0), -1)\n",
        "        validity = self.model(coords_flat)\n",
        "\n",
        "        return validity"
      ],
      "execution_count": 14,
      "outputs": []
    },
    {
      "cell_type": "code",
      "metadata": {
        "id": "I2JG7h5SLpvk"
      },
      "source": [
        "discriminator_model = Discriminator().to(device)"
      ],
      "execution_count": 15,
      "outputs": []
    },
    {
      "cell_type": "code",
      "metadata": {
        "id": "4IWyzqdYLt31"
      },
      "source": [
        "optimizer_G = torch.optim.Adam(gen_model.parameters(), lr=lr, betas=(b1, b2))\n",
        "optimizer_D = torch.optim.Adam(discriminator_model.parameters(), lr=lr, betas=(b1, b2))\n",
        "\n",
        "adversarial_loss = torch.nn.BCELoss()"
      ],
      "execution_count": 16,
      "outputs": []
    },
    {
      "cell_type": "code",
      "metadata": {
        "id": "bb2El8iELwO2",
        "colab": {
          "base_uri": "https://localhost:8080/",
          "height": 333
        },
        "outputId": "a6d53ba8-012f-40a8-f096-cd176139c9a8"
      },
      "source": [
        "%%time\n",
        "\n",
        "red_patch = mpatches.Patch(color='red', label='D loss')\n",
        "green_patch = mpatches.Patch(color='green', label='G loss')\n",
        "\n",
        "d_loss_history = []\n",
        "g_loss_history = []\n",
        "\n",
        "for epoch in range(n_epochs):\n",
        "    \n",
        "    generator_epoch_loss = 0.0\n",
        "    discriminator_epoch_loss = 0.0\n",
        "    \n",
        "    for i, data in enumerate(trainloader):\n",
        "\n",
        "\n",
        "##################### Лейблы для данных: 1 - настоящие, 0 - сгенерированные ########\n",
        "        valid = Variable(torch.FloatTensor(batch_size, 1).fill_(1.0), requires_grad=False).to(device)\n",
        "        fake = Variable(torch.FloatTensor(batch_size, 1).fill_(0.0), requires_grad=False).to(device)\n",
        "        \n",
        "        real_coords = Variable(data.type(torch.FloatTensor)).to(device)\n",
        "\n",
        "######################  Тренировка генератора    ##########################\n",
        "        \n",
        "        optimizer_G.zero_grad()\n",
        "    \n",
        "        #генерация шума\n",
        "        z = Variable(torch.from_numpy(np.random.uniform(noise_min, noise_max, (batch_size, hidden_dim)).astype(np.float64)).double()).to(device)\n",
        "\n",
        "        gen_coords = gen_model(z)\n",
        "\n",
        "        validity = discriminator_model(gen_coords.float())\n",
        "        g_loss = adversarial_loss(validity, valid)\n",
        "        \n",
        "        g_loss.backward()\n",
        "        optimizer_G.step()\n",
        "        \n",
        "        generator_epoch_loss += g_loss.item()\n",
        "\n",
        "######################  Тренировка дискриминатора    ##########################\n",
        "\n",
        "        optimizer_D.zero_grad()\n",
        "\n",
        "        real_pred = discriminator_model(real_coords.float())\n",
        "        d_real_loss = adversarial_loss(real_pred, valid)\n",
        "\n",
        "        fake_pred = discriminator_model(gen_coords.detach().float())\n",
        "        d_fake_loss = adversarial_loss(fake_pred, fake)\n",
        "\n",
        "        d_loss = (d_real_loss + d_fake_loss) / 2\n",
        "\n",
        "        d_loss.backward()\n",
        "        optimizer_D.step()\n",
        "        \n",
        "        discriminator_epoch_loss += d_loss.item()\n",
        "\n",
        "######## Отображение процесса обучения и вывод функций потерь ############\n",
        "        if (i+1) % BATCHES_IN_DATA_COUNT == 0:\n",
        "            plt.clf()\n",
        "            \n",
        "            display.clear_output(wait=False)\n",
        "            print(\"[Epoch %d/%d] [D loss: %f] [G loss: %f]\"% (epoch+1, n_epochs, discriminator_epoch_loss / BATCHES_IN_DATA_COUNT, generator_epoch_loss / BATCHES_IN_DATA_COUNT)) \n",
        "\n",
        "            \n",
        "            display.display(plt.gcf())\n",
        "            \n",
        "            d_loss_history.append(d_loss)\n",
        "            g_loss_history.append(g_loss)\n",
        "\n",
        "            plt.plot(np.log(np.array(d_loss_history)), label='D loss', color = 'red')\n",
        "            plt.plot(np.log(np.array(g_loss_history)), label='G loss', color = 'green')\n",
        "            plt.legend(handles=[red_patch, green_patch])\n",
        "            plt.show()"
      ],
      "execution_count": null,
      "outputs": [
        {
          "output_type": "stream",
          "text": [
            "[Epoch 200/200] [D loss: 0.691560] [G loss: 0.701796]\n"
          ],
          "name": "stdout"
        },
        {
          "output_type": "display_data",
          "data": {
            "text/plain": [
              "<Figure size 432x288 with 0 Axes>"
            ]
          },
          "metadata": {
            "tags": []
          }
        },
        {
          "output_type": "display_data",
          "data": {
            "image/png": "[encoded data removed]",
            "text/plain": [
              "<Figure size 432x288 with 1 Axes>"
            ]
          },
          "metadata": {
            "tags": [],
            "needs_background": "light"
          }
        },
        {
          "output_type": "stream",
          "text": [
            "CPU times: user 47.1 s, sys: 1min 12s, total: 1min 59s\n",
            "Wall time: 2min 51s\n"
          ],
          "name": "stdout"
        }
      ]
    },
    {
      "cell_type": "code",
      "metadata": {
        "id": "iHt6-pdRLy6V"
      },
      "source": [
        "gen_model.eval()\n",
        "\n",
        "xx = Variable(torch.from_numpy(np.random.uniform(noise_min, noise_max, (batch_size, hidden_dim)).astype(np.float64)).double()).to(device)\n",
        "\n",
        "with torch.no_grad():\n",
        "    test_pred = gen_model(xx)\n",
        "\n",
        "gen_model.train()\n",
        "\n",
        "test_pred = test_pred.cpu().detach().numpy()"
      ],
      "execution_count": null,
      "outputs": []
    },
    {
      "cell_type": "code",
      "metadata": {
        "id": "5E69klGvbHUH",
        "colab": {
          "base_uri": "https://localhost:8080/"
        },
        "outputId": "6f07925f-d0e9-45e1-afed-62830ae8c58d"
      },
      "source": [
        "count = 0\n",
        "error = 0.0\n",
        "for i in range(len(test_pred)):\n",
        "    xxx = test_pred[i][0]\n",
        "    y_pred = test_pred[i][1]\n",
        "    y_real = func_y(xxx)\n",
        "    \n",
        "    \n",
        "    count +=1\n",
        "    error += abs(y_real - y_pred)\n",
        "\n",
        "print(\"\\nTotal mean error: %.10f\" % (error/count))"
      ],
      "execution_count": null,
      "outputs": [
        {
          "output_type": "stream",
          "text": [
            "\n",
            "Total mean error: 0.0408424319\n"
          ],
          "name": "stdout"
        }
      ]
    },
    {
      "cell_type": "code",
      "metadata": {
        "id": "kkMpGEvDbJ9b",
        "colab": {
          "base_uri": "https://localhost:8080/",
          "height": 592
        },
        "outputId": "dba4cf71-d4fa-4229-de59-8e6a6c80165a"
      },
      "source": [
        "figure(num=None, figsize=(10, 10))\n",
        "\n",
        "real_x = np.linspace(-5, 5, 100)\n",
        "plt.plot(real_x, func_y(real_x), label='Реальные данные', color = 'red')\n",
        "\n",
        "p = test_pred[:,0].argsort()\n",
        "plt.plot(test_pred[:,0][p], test_pred[:, 1][p], label='Предсказанные значение', color = 'green')\n",
        "\n",
        "\n",
        "plt.legend()\n",
        "plt.show()"
      ],
      "execution_count": null,
      "outputs": [
        {
          "output_type": "display_data",
          "data": {
            "image/png": "[encoded data removed]",
            "text/plain": [
              "<Figure size 720x720 with 1 Axes>"
            ]
          },
          "metadata": {
            "tags": [],
            "needs_background": "light"
          }
        }
      ]
    }
  ]
}