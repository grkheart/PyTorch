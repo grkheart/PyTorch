{
 "cells": [
  {
   "cell_type": "code",
   "execution_count": 1,
   "id": "92c8548e",
   "metadata": {
    "_cell_guid": "b1076dfc-b9ad-4769-8c92-a6c4dae69d19",
    "_uuid": "8f2839f25d086af736a60e9eeb907d3b93b6e0e5",
    "execution": {
     "iopub.execute_input": "2023-02-01T08:27:24.550785Z",
     "iopub.status.busy": "2023-02-01T08:27:24.549532Z",
     "iopub.status.idle": "2023-02-01T08:27:24.562937Z",
     "shell.execute_reply": "2023-02-01T08:27:24.562012Z"
    },
    "papermill": {
     "duration": 0.024411,
     "end_time": "2023-02-01T08:27:24.565228",
     "exception": false,
     "start_time": "2023-02-01T08:27:24.540817",
     "status": "completed"
    },
    "tags": []
   },
   "outputs": [],
   "source": [
    "# This Python 3 environment comes with many helpful analytics libraries installed\n",
    "# It is defined by the kaggle/python Docker image: https://github.com/kaggle/docker-python\n",
    "# For example, here's several helpful packages to load\n",
    "\n",
    "import numpy as np # linear algebra\n",
    "import pandas as pd # data processing, CSV file I/O (e.g. pd.read_csv)\n",
    "\n",
    "# Input data files are available in the read-only \"../input/\" directory\n",
    "# For example, running this (by clicking run or pressing Shift+Enter) will list all files under the input directory\n",
    "\n",
    "import os\n",
    "for dirname, _, filenames in os.walk('/kaggle/input'):\n",
    "    for filename in filenames:\n",
    "        print(os.path.join(dirname, filename))\n",
    "\n",
    "# You can write up to 20GB to the current directory (/kaggle/working/) that gets preserved as output when you create a version using \"Save & Run All\" \n",
    "# You can also write temporary files to /kaggle/temp/, but they won't be saved outside of the current session"
   ]
  },
  {
   "cell_type": "markdown",
   "id": "71f1e8c7",
   "metadata": {
    "papermill": {
     "duration": 0.005814,
     "end_time": "2023-02-01T08:27:24.576787",
     "exception": false,
     "start_time": "2023-02-01T08:27:24.570973",
     "status": "completed"
    },
    "tags": []
   },
   "source": [
    "1. Создать Dataset для загрузки данных (sklearn.datasets.fetch_california_housing)\n",
    "\n",
    "2. Обернуть его в Dataloader\n",
    "\n",
    "3. Написать архитектуру сети, которая предсказывает стоимость недвижимости. Сеть должна включать   BatchNorm слои и Dropout (или НЕ включать, но нужно обосновать)\n",
    "\n",
    "4. Сравните сходимость Adam, RMSProp и SGD, сделайте вывод по качеству работы модели\n",
    "   train-test разделение нужно сделать с помощью sklearn random_state=13, test_size = 0.25"
   ]
  },
  {
   "cell_type": "code",
   "execution_count": 2,
   "id": "07c0072d",
   "metadata": {
    "execution": {
     "iopub.execute_input": "2023-02-01T08:27:24.590748Z",
     "iopub.status.busy": "2023-02-01T08:27:24.588999Z",
     "iopub.status.idle": "2023-02-01T08:27:27.660416Z",
     "shell.execute_reply": "2023-02-01T08:27:27.659344Z"
    },
    "papermill": {
     "duration": 3.080832,
     "end_time": "2023-02-01T08:27:27.663331",
     "exception": false,
     "start_time": "2023-02-01T08:27:24.582499",
     "status": "completed"
    },
    "tags": []
   },
   "outputs": [],
   "source": [
    "import numpy as np\n",
    "import pandas as pd\n",
    "import torch\n",
    "import torch.nn.functional as F\n",
    "import torch.nn as nn\n",
    "from tqdm import tqdm\n",
    "from sklearn.model_selection import train_test_split\n",
    "from sklearn.datasets import fetch_california_housing\n",
    "import torchvision.transforms as transforms\n",
    "\n",
    "pd.set_option('display.float_format', lambda x: '%0.4f' % x)\n",
    "np.set_printoptions(suppress=True)"
   ]
  },
  {
   "cell_type": "code",
   "execution_count": 3,
   "id": "b734be16",
   "metadata": {
    "execution": {
     "iopub.execute_input": "2023-02-01T08:27:27.677523Z",
     "iopub.status.busy": "2023-02-01T08:27:27.677023Z",
     "iopub.status.idle": "2023-02-01T08:27:29.434140Z",
     "shell.execute_reply": "2023-02-01T08:27:29.433204Z"
    },
    "papermill": {
     "duration": 1.767019,
     "end_time": "2023-02-01T08:27:29.436831",
     "exception": false,
     "start_time": "2023-02-01T08:27:27.669812",
     "status": "completed"
    },
    "tags": []
   },
   "outputs": [],
   "source": [
    "california_housing = fetch_california_housing(as_frame=True)"
   ]
  },
  {
   "cell_type": "code",
   "execution_count": 4,
   "id": "d4bfdaf5",
   "metadata": {
    "execution": {
     "iopub.execute_input": "2023-02-01T08:27:29.449107Z",
     "iopub.status.busy": "2023-02-01T08:27:29.448805Z",
     "iopub.status.idle": "2023-02-01T08:27:29.453892Z",
     "shell.execute_reply": "2023-02-01T08:27:29.452960Z"
    },
    "papermill": {
     "duration": 0.015381,
     "end_time": "2023-02-01T08:27:29.457733",
     "exception": false,
     "start_time": "2023-02-01T08:27:29.442352",
     "status": "completed"
    },
    "tags": []
   },
   "outputs": [
    {
     "name": "stdout",
     "output_type": "stream",
     "text": [
      ".. _california_housing_dataset:\n",
      "\n",
      "California Housing dataset\n",
      "--------------------------\n",
      "\n",
      "**Data Set Characteristics:**\n",
      "\n",
      "    :Number of Instances: 20640\n",
      "\n",
      "    :Number of Attributes: 8 numeric, predictive attributes and the target\n",
      "\n",
      "    :Attribute Information:\n",
      "        - MedInc        median income in block group\n",
      "        - HouseAge      median house age in block group\n",
      "        - AveRooms      average number of rooms per household\n",
      "        - AveBedrms     average number of bedrooms per household\n",
      "        - Population    block group population\n",
      "        - AveOccup      average number of household members\n",
      "        - Latitude      block group latitude\n",
      "        - Longitude     block group longitude\n",
      "\n",
      "    :Missing Attribute Values: None\n",
      "\n",
      "This dataset was obtained from the StatLib repository.\n",
      "https://www.dcc.fc.up.pt/~ltorgo/Regression/cal_housing.html\n",
      "\n",
      "The target variable is the median house value for California districts,\n",
      "expressed in hundreds of thousands of dollars ($100,000).\n",
      "\n",
      "This dataset was derived from the 1990 U.S. census, using one row per census\n",
      "block group. A block group is the smallest geographical unit for which the U.S.\n",
      "Census Bureau publishes sample data (a block group typically has a population\n",
      "of 600 to 3,000 people).\n",
      "\n",
      "An household is a group of people residing within a home. Since the average\n",
      "number of rooms and bedrooms in this dataset are provided per household, these\n",
      "columns may take surpinsingly large values for block groups with few households\n",
      "and many empty houses, such as vacation resorts.\n",
      "\n",
      "It can be downloaded/loaded using the\n",
      ":func:`sklearn.datasets.fetch_california_housing` function.\n",
      "\n",
      ".. topic:: References\n",
      "\n",
      "    - Pace, R. Kelley and Ronald Barry, Sparse Spatial Autoregressions,\n",
      "      Statistics and Probability Letters, 33 (1997) 291-297\n",
      "\n"
     ]
    }
   ],
   "source": [
    "print(california_housing.DESCR)"
   ]
  },
  {
   "cell_type": "code",
   "execution_count": 5,
   "id": "1ed2ee1f",
   "metadata": {
    "execution": {
     "iopub.execute_input": "2023-02-01T08:27:29.471421Z",
     "iopub.status.busy": "2023-02-01T08:27:29.470799Z",
     "iopub.status.idle": "2023-02-01T08:27:29.488485Z",
     "shell.execute_reply": "2023-02-01T08:27:29.487399Z"
    },
    "papermill": {
     "duration": 0.026682,
     "end_time": "2023-02-01T08:27:29.491201",
     "exception": false,
     "start_time": "2023-02-01T08:27:29.464519",
     "status": "completed"
    },
    "tags": []
   },
   "outputs": [
    {
     "data": {
      "text/html": [
       "<div>\n",
       "<style scoped>\n",
       "    .dataframe tbody tr th:only-of-type {\n",
       "        vertical-align: middle;\n",
       "    }\n",
       "\n",
       "    .dataframe tbody tr th {\n",
       "        vertical-align: top;\n",
       "    }\n",
       "\n",
       "    .dataframe thead th {\n",
       "        text-align: right;\n",
       "    }\n",
       "</style>\n",
       "<table border=\"1\" class=\"dataframe\">\n",
       "  <thead>\n",
       "    <tr style=\"text-align: right;\">\n",
       "      <th></th>\n",
       "      <th>MedInc</th>\n",
       "      <th>HouseAge</th>\n",
       "      <th>AveRooms</th>\n",
       "      <th>AveBedrms</th>\n",
       "      <th>Population</th>\n",
       "      <th>AveOccup</th>\n",
       "      <th>Latitude</th>\n",
       "      <th>Longitude</th>\n",
       "      <th>MedHouseVal</th>\n",
       "    </tr>\n",
       "  </thead>\n",
       "  <tbody>\n",
       "    <tr>\n",
       "      <th>0</th>\n",
       "      <td>8.3252</td>\n",
       "      <td>41.0000</td>\n",
       "      <td>6.9841</td>\n",
       "      <td>1.0238</td>\n",
       "      <td>322.0000</td>\n",
       "      <td>2.5556</td>\n",
       "      <td>37.8800</td>\n",
       "      <td>-122.2300</td>\n",
       "      <td>4.5260</td>\n",
       "    </tr>\n",
       "    <tr>\n",
       "      <th>1</th>\n",
       "      <td>8.3014</td>\n",
       "      <td>21.0000</td>\n",
       "      <td>6.2381</td>\n",
       "      <td>0.9719</td>\n",
       "      <td>2401.0000</td>\n",
       "      <td>2.1098</td>\n",
       "      <td>37.8600</td>\n",
       "      <td>-122.2200</td>\n",
       "      <td>3.5850</td>\n",
       "    </tr>\n",
       "    <tr>\n",
       "      <th>2</th>\n",
       "      <td>7.2574</td>\n",
       "      <td>52.0000</td>\n",
       "      <td>8.2881</td>\n",
       "      <td>1.0734</td>\n",
       "      <td>496.0000</td>\n",
       "      <td>2.8023</td>\n",
       "      <td>37.8500</td>\n",
       "      <td>-122.2400</td>\n",
       "      <td>3.5210</td>\n",
       "    </tr>\n",
       "    <tr>\n",
       "      <th>3</th>\n",
       "      <td>5.6431</td>\n",
       "      <td>52.0000</td>\n",
       "      <td>5.8174</td>\n",
       "      <td>1.0731</td>\n",
       "      <td>558.0000</td>\n",
       "      <td>2.5479</td>\n",
       "      <td>37.8500</td>\n",
       "      <td>-122.2500</td>\n",
       "      <td>3.4130</td>\n",
       "    </tr>\n",
       "    <tr>\n",
       "      <th>4</th>\n",
       "      <td>3.8462</td>\n",
       "      <td>52.0000</td>\n",
       "      <td>6.2819</td>\n",
       "      <td>1.0811</td>\n",
       "      <td>565.0000</td>\n",
       "      <td>2.1815</td>\n",
       "      <td>37.8500</td>\n",
       "      <td>-122.2500</td>\n",
       "      <td>3.4220</td>\n",
       "    </tr>\n",
       "    <tr>\n",
       "      <th>5</th>\n",
       "      <td>4.0368</td>\n",
       "      <td>52.0000</td>\n",
       "      <td>4.7617</td>\n",
       "      <td>1.1036</td>\n",
       "      <td>413.0000</td>\n",
       "      <td>2.1399</td>\n",
       "      <td>37.8500</td>\n",
       "      <td>-122.2500</td>\n",
       "      <td>2.6970</td>\n",
       "    </tr>\n",
       "    <tr>\n",
       "      <th>6</th>\n",
       "      <td>3.6591</td>\n",
       "      <td>52.0000</td>\n",
       "      <td>4.9319</td>\n",
       "      <td>0.9514</td>\n",
       "      <td>1094.0000</td>\n",
       "      <td>2.1284</td>\n",
       "      <td>37.8400</td>\n",
       "      <td>-122.2500</td>\n",
       "      <td>2.9920</td>\n",
       "    </tr>\n",
       "    <tr>\n",
       "      <th>7</th>\n",
       "      <td>3.1200</td>\n",
       "      <td>52.0000</td>\n",
       "      <td>4.7975</td>\n",
       "      <td>1.0618</td>\n",
       "      <td>1157.0000</td>\n",
       "      <td>1.7883</td>\n",
       "      <td>37.8400</td>\n",
       "      <td>-122.2500</td>\n",
       "      <td>2.4140</td>\n",
       "    </tr>\n",
       "    <tr>\n",
       "      <th>8</th>\n",
       "      <td>2.0804</td>\n",
       "      <td>42.0000</td>\n",
       "      <td>4.2941</td>\n",
       "      <td>1.1176</td>\n",
       "      <td>1206.0000</td>\n",
       "      <td>2.0269</td>\n",
       "      <td>37.8400</td>\n",
       "      <td>-122.2600</td>\n",
       "      <td>2.2670</td>\n",
       "    </tr>\n",
       "    <tr>\n",
       "      <th>9</th>\n",
       "      <td>3.6912</td>\n",
       "      <td>52.0000</td>\n",
       "      <td>4.9706</td>\n",
       "      <td>0.9902</td>\n",
       "      <td>1551.0000</td>\n",
       "      <td>2.1723</td>\n",
       "      <td>37.8400</td>\n",
       "      <td>-122.2500</td>\n",
       "      <td>2.6110</td>\n",
       "    </tr>\n",
       "  </tbody>\n",
       "</table>\n",
       "</div>"
      ],
      "text/plain": [
       "   MedInc  HouseAge  AveRooms  AveBedrms  Population  AveOccup  Latitude  \\\n",
       "0  8.3252   41.0000    6.9841     1.0238    322.0000    2.5556   37.8800   \n",
       "1  8.3014   21.0000    6.2381     0.9719   2401.0000    2.1098   37.8600   \n",
       "2  7.2574   52.0000    8.2881     1.0734    496.0000    2.8023   37.8500   \n",
       "3  5.6431   52.0000    5.8174     1.0731    558.0000    2.5479   37.8500   \n",
       "4  3.8462   52.0000    6.2819     1.0811    565.0000    2.1815   37.8500   \n",
       "5  4.0368   52.0000    4.7617     1.1036    413.0000    2.1399   37.8500   \n",
       "6  3.6591   52.0000    4.9319     0.9514   1094.0000    2.1284   37.8400   \n",
       "7  3.1200   52.0000    4.7975     1.0618   1157.0000    1.7883   37.8400   \n",
       "8  2.0804   42.0000    4.2941     1.1176   1206.0000    2.0269   37.8400   \n",
       "9  3.6912   52.0000    4.9706     0.9902   1551.0000    2.1723   37.8400   \n",
       "\n",
       "   Longitude  MedHouseVal  \n",
       "0  -122.2300       4.5260  \n",
       "1  -122.2200       3.5850  \n",
       "2  -122.2400       3.5210  \n",
       "3  -122.2500       3.4130  \n",
       "4  -122.2500       3.4220  \n",
       "5  -122.2500       2.6970  \n",
       "6  -122.2500       2.9920  \n",
       "7  -122.2500       2.4140  \n",
       "8  -122.2600       2.2670  \n",
       "9  -122.2500       2.6110  "
      ]
     },
     "execution_count": 5,
     "metadata": {},
     "output_type": "execute_result"
    }
   ],
   "source": [
    "df = california_housing.frame\n",
    "df.head(10)"
   ]
  },
  {
   "cell_type": "code",
   "execution_count": 6,
   "id": "c5fd4021",
   "metadata": {
    "execution": {
     "iopub.execute_input": "2023-02-01T08:27:29.505802Z",
     "iopub.status.busy": "2023-02-01T08:27:29.505075Z",
     "iopub.status.idle": "2023-02-01T08:27:29.511109Z",
     "shell.execute_reply": "2023-02-01T08:27:29.510152Z"
    },
    "papermill": {
     "duration": 0.015682,
     "end_time": "2023-02-01T08:27:29.513441",
     "exception": false,
     "start_time": "2023-02-01T08:27:29.497759",
     "status": "completed"
    },
    "tags": []
   },
   "outputs": [
    {
     "data": {
      "text/plain": [
       "(20640, 9)"
      ]
     },
     "execution_count": 6,
     "metadata": {},
     "output_type": "execute_result"
    }
   ],
   "source": [
    "df.shape"
   ]
  },
  {
   "cell_type": "code",
   "execution_count": 7,
   "id": "52200d2a",
   "metadata": {
    "execution": {
     "iopub.execute_input": "2023-02-01T08:27:29.528585Z",
     "iopub.status.busy": "2023-02-01T08:27:29.527891Z",
     "iopub.status.idle": "2023-02-01T08:27:29.546547Z",
     "shell.execute_reply": "2023-02-01T08:27:29.545350Z"
    },
    "papermill": {
     "duration": 0.028427,
     "end_time": "2023-02-01T08:27:29.548889",
     "exception": false,
     "start_time": "2023-02-01T08:27:29.520462",
     "status": "completed"
    },
    "tags": []
   },
   "outputs": [
    {
     "name": "stdout",
     "output_type": "stream",
     "text": [
      "<class 'pandas.core.frame.DataFrame'>\n",
      "RangeIndex: 20640 entries, 0 to 20639\n",
      "Data columns (total 9 columns):\n",
      " #   Column       Non-Null Count  Dtype  \n",
      "---  ------       --------------  -----  \n",
      " 0   MedInc       20640 non-null  float64\n",
      " 1   HouseAge     20640 non-null  float64\n",
      " 2   AveRooms     20640 non-null  float64\n",
      " 3   AveBedrms    20640 non-null  float64\n",
      " 4   Population   20640 non-null  float64\n",
      " 5   AveOccup     20640 non-null  float64\n",
      " 6   Latitude     20640 non-null  float64\n",
      " 7   Longitude    20640 non-null  float64\n",
      " 8   MedHouseVal  20640 non-null  float64\n",
      "dtypes: float64(9)\n",
      "memory usage: 1.4 MB\n"
     ]
    }
   ],
   "source": [
    "df.info()"
   ]
  },
  {
   "cell_type": "code",
   "execution_count": 8,
   "id": "a86eb89a",
   "metadata": {
    "execution": {
     "iopub.execute_input": "2023-02-01T08:27:29.564131Z",
     "iopub.status.busy": "2023-02-01T08:27:29.563822Z",
     "iopub.status.idle": "2023-02-01T08:27:29.602715Z",
     "shell.execute_reply": "2023-02-01T08:27:29.601556Z"
    },
    "papermill": {
     "duration": 0.04958,
     "end_time": "2023-02-01T08:27:29.605219",
     "exception": false,
     "start_time": "2023-02-01T08:27:29.555639",
     "status": "completed"
    },
    "tags": []
   },
   "outputs": [
    {
     "data": {
      "text/html": [
       "<div>\n",
       "<style scoped>\n",
       "    .dataframe tbody tr th:only-of-type {\n",
       "        vertical-align: middle;\n",
       "    }\n",
       "\n",
       "    .dataframe tbody tr th {\n",
       "        vertical-align: top;\n",
       "    }\n",
       "\n",
       "    .dataframe thead th {\n",
       "        text-align: right;\n",
       "    }\n",
       "</style>\n",
       "<table border=\"1\" class=\"dataframe\">\n",
       "  <thead>\n",
       "    <tr style=\"text-align: right;\">\n",
       "      <th></th>\n",
       "      <th>MedInc</th>\n",
       "      <th>HouseAge</th>\n",
       "      <th>AveRooms</th>\n",
       "      <th>AveBedrms</th>\n",
       "      <th>Population</th>\n",
       "      <th>AveOccup</th>\n",
       "      <th>Latitude</th>\n",
       "      <th>Longitude</th>\n",
       "      <th>MedHouseVal</th>\n",
       "    </tr>\n",
       "  </thead>\n",
       "  <tbody>\n",
       "    <tr>\n",
       "      <th>count</th>\n",
       "      <td>20640.0000</td>\n",
       "      <td>20640.0000</td>\n",
       "      <td>20640.0000</td>\n",
       "      <td>20640.0000</td>\n",
       "      <td>20640.0000</td>\n",
       "      <td>20640.0000</td>\n",
       "      <td>20640.0000</td>\n",
       "      <td>20640.0000</td>\n",
       "      <td>20640.0000</td>\n",
       "    </tr>\n",
       "    <tr>\n",
       "      <th>mean</th>\n",
       "      <td>3.8707</td>\n",
       "      <td>28.6395</td>\n",
       "      <td>5.4290</td>\n",
       "      <td>1.0967</td>\n",
       "      <td>1425.4767</td>\n",
       "      <td>3.0707</td>\n",
       "      <td>35.6319</td>\n",
       "      <td>-119.5697</td>\n",
       "      <td>2.0686</td>\n",
       "    </tr>\n",
       "    <tr>\n",
       "      <th>std</th>\n",
       "      <td>1.8998</td>\n",
       "      <td>12.5856</td>\n",
       "      <td>2.4742</td>\n",
       "      <td>0.4739</td>\n",
       "      <td>1132.4621</td>\n",
       "      <td>10.3860</td>\n",
       "      <td>2.1360</td>\n",
       "      <td>2.0035</td>\n",
       "      <td>1.1540</td>\n",
       "    </tr>\n",
       "    <tr>\n",
       "      <th>min</th>\n",
       "      <td>0.4999</td>\n",
       "      <td>1.0000</td>\n",
       "      <td>0.8462</td>\n",
       "      <td>0.3333</td>\n",
       "      <td>3.0000</td>\n",
       "      <td>0.6923</td>\n",
       "      <td>32.5400</td>\n",
       "      <td>-124.3500</td>\n",
       "      <td>0.1500</td>\n",
       "    </tr>\n",
       "    <tr>\n",
       "      <th>25%</th>\n",
       "      <td>2.5634</td>\n",
       "      <td>18.0000</td>\n",
       "      <td>4.4407</td>\n",
       "      <td>1.0061</td>\n",
       "      <td>787.0000</td>\n",
       "      <td>2.4297</td>\n",
       "      <td>33.9300</td>\n",
       "      <td>-121.8000</td>\n",
       "      <td>1.1960</td>\n",
       "    </tr>\n",
       "    <tr>\n",
       "      <th>50%</th>\n",
       "      <td>3.5348</td>\n",
       "      <td>29.0000</td>\n",
       "      <td>5.2291</td>\n",
       "      <td>1.0488</td>\n",
       "      <td>1166.0000</td>\n",
       "      <td>2.8181</td>\n",
       "      <td>34.2600</td>\n",
       "      <td>-118.4900</td>\n",
       "      <td>1.7970</td>\n",
       "    </tr>\n",
       "    <tr>\n",
       "      <th>75%</th>\n",
       "      <td>4.7432</td>\n",
       "      <td>37.0000</td>\n",
       "      <td>6.0524</td>\n",
       "      <td>1.0995</td>\n",
       "      <td>1725.0000</td>\n",
       "      <td>3.2823</td>\n",
       "      <td>37.7100</td>\n",
       "      <td>-118.0100</td>\n",
       "      <td>2.6472</td>\n",
       "    </tr>\n",
       "    <tr>\n",
       "      <th>max</th>\n",
       "      <td>15.0001</td>\n",
       "      <td>52.0000</td>\n",
       "      <td>141.9091</td>\n",
       "      <td>34.0667</td>\n",
       "      <td>35682.0000</td>\n",
       "      <td>1243.3333</td>\n",
       "      <td>41.9500</td>\n",
       "      <td>-114.3100</td>\n",
       "      <td>5.0000</td>\n",
       "    </tr>\n",
       "  </tbody>\n",
       "</table>\n",
       "</div>"
      ],
      "text/plain": [
       "          MedInc   HouseAge   AveRooms  AveBedrms  Population   AveOccup  \\\n",
       "count 20640.0000 20640.0000 20640.0000 20640.0000  20640.0000 20640.0000   \n",
       "mean      3.8707    28.6395     5.4290     1.0967   1425.4767     3.0707   \n",
       "std       1.8998    12.5856     2.4742     0.4739   1132.4621    10.3860   \n",
       "min       0.4999     1.0000     0.8462     0.3333      3.0000     0.6923   \n",
       "25%       2.5634    18.0000     4.4407     1.0061    787.0000     2.4297   \n",
       "50%       3.5348    29.0000     5.2291     1.0488   1166.0000     2.8181   \n",
       "75%       4.7432    37.0000     6.0524     1.0995   1725.0000     3.2823   \n",
       "max      15.0001    52.0000   141.9091    34.0667  35682.0000  1243.3333   \n",
       "\n",
       "        Latitude  Longitude  MedHouseVal  \n",
       "count 20640.0000 20640.0000   20640.0000  \n",
       "mean     35.6319  -119.5697       2.0686  \n",
       "std       2.1360     2.0035       1.1540  \n",
       "min      32.5400  -124.3500       0.1500  \n",
       "25%      33.9300  -121.8000       1.1960  \n",
       "50%      34.2600  -118.4900       1.7970  \n",
       "75%      37.7100  -118.0100       2.6472  \n",
       "max      41.9500  -114.3100       5.0000  "
      ]
     },
     "execution_count": 8,
     "metadata": {},
     "output_type": "execute_result"
    }
   ],
   "source": [
    "df.describe()"
   ]
  },
  {
   "cell_type": "code",
   "execution_count": 9,
   "id": "1d3deb25",
   "metadata": {
    "execution": {
     "iopub.execute_input": "2023-02-01T08:27:29.619793Z",
     "iopub.status.busy": "2023-02-01T08:27:29.619526Z",
     "iopub.status.idle": "2023-02-01T08:27:29.627158Z",
     "shell.execute_reply": "2023-02-01T08:27:29.626226Z"
    },
    "papermill": {
     "duration": 0.01717,
     "end_time": "2023-02-01T08:27:29.629308",
     "exception": false,
     "start_time": "2023-02-01T08:27:29.612138",
     "status": "completed"
    },
    "tags": []
   },
   "outputs": [],
   "source": [
    "train_dataset, test_dataset = train_test_split(df, test_size=0.25, random_state=13)"
   ]
  },
  {
   "cell_type": "code",
   "execution_count": 10,
   "id": "8633e501",
   "metadata": {
    "execution": {
     "iopub.execute_input": "2023-02-01T08:27:29.644390Z",
     "iopub.status.busy": "2023-02-01T08:27:29.643651Z",
     "iopub.status.idle": "2023-02-01T08:27:29.648341Z",
     "shell.execute_reply": "2023-02-01T08:27:29.647447Z"
    },
    "papermill": {
     "duration": 0.015213,
     "end_time": "2023-02-01T08:27:29.651038",
     "exception": false,
     "start_time": "2023-02-01T08:27:29.635825",
     "status": "completed"
    },
    "tags": []
   },
   "outputs": [
    {
     "name": "stdout",
     "output_type": "stream",
     "text": [
      "Train_dataset shape: (15480, 9)\n",
      "Test_dataset shape: (5160, 9)\n"
     ]
    }
   ],
   "source": [
    "print(f'Train_dataset shape: {train_dataset.shape}\\nTest_dataset shape: {test_dataset.shape}')"
   ]
  },
  {
   "cell_type": "code",
   "execution_count": 11,
   "id": "fe9b8682",
   "metadata": {
    "execution": {
     "iopub.execute_input": "2023-02-01T08:27:29.666368Z",
     "iopub.status.busy": "2023-02-01T08:27:29.665546Z",
     "iopub.status.idle": "2023-02-01T08:27:29.671610Z",
     "shell.execute_reply": "2023-02-01T08:27:29.670765Z"
    },
    "papermill": {
     "duration": 0.015792,
     "end_time": "2023-02-01T08:27:29.673524",
     "exception": false,
     "start_time": "2023-02-01T08:27:29.657732",
     "status": "completed"
    },
    "tags": []
   },
   "outputs": [],
   "source": [
    "class CaliforniaHousingDataset(torch.utils.data.Dataset):\n",
    "    def __init__(self, init_dataset):\n",
    "        self._base_dataset = init_dataset\n",
    "\n",
    "    def __len__(self):\n",
    "        return len(self._base_dataset)\n",
    "\n",
    "    def __getitem__(self, index):\n",
    "        features = np.asarray(self._base_dataset)[index][:-1]\n",
    "        target = np.asarray(self._base_dataset)[index][-1]\n",
    "        return features, target"
   ]
  },
  {
   "cell_type": "code",
   "execution_count": 12,
   "id": "e0c59ddc",
   "metadata": {
    "execution": {
     "iopub.execute_input": "2023-02-01T08:27:29.687286Z",
     "iopub.status.busy": "2023-02-01T08:27:29.686680Z",
     "iopub.status.idle": "2023-02-01T08:27:29.690639Z",
     "shell.execute_reply": "2023-02-01T08:27:29.689766Z"
    },
    "papermill": {
     "duration": 0.012993,
     "end_time": "2023-02-01T08:27:29.692608",
     "exception": false,
     "start_time": "2023-02-01T08:27:29.679615",
     "status": "completed"
    },
    "tags": []
   },
   "outputs": [],
   "source": [
    "california_housing_train_dataset = CaliforniaHousingDataset(train_dataset)"
   ]
  },
  {
   "cell_type": "code",
   "execution_count": 13,
   "id": "452a60e3",
   "metadata": {
    "execution": {
     "iopub.execute_input": "2023-02-01T08:27:29.706349Z",
     "iopub.status.busy": "2023-02-01T08:27:29.705594Z",
     "iopub.status.idle": "2023-02-01T08:27:29.712073Z",
     "shell.execute_reply": "2023-02-01T08:27:29.711046Z"
    },
    "papermill": {
     "duration": 0.015321,
     "end_time": "2023-02-01T08:27:29.714153",
     "exception": false,
     "start_time": "2023-02-01T08:27:29.698832",
     "status": "completed"
    },
    "tags": []
   },
   "outputs": [
    {
     "data": {
      "text/plain": [
       "(array([   3.5174    ,   36.        ,    4.54794521,    1.09436834,\n",
       "        1357.        ,    2.06544901,   34.21      , -118.23      ]),\n",
       " 2.68)"
      ]
     },
     "execution_count": 13,
     "metadata": {},
     "output_type": "execute_result"
    }
   ],
   "source": [
    "california_housing_train_dataset[0]"
   ]
  },
  {
   "cell_type": "code",
   "execution_count": 14,
   "id": "c3983161",
   "metadata": {
    "execution": {
     "iopub.execute_input": "2023-02-01T08:27:29.728296Z",
     "iopub.status.busy": "2023-02-01T08:27:29.727561Z",
     "iopub.status.idle": "2023-02-01T08:27:29.734099Z",
     "shell.execute_reply": "2023-02-01T08:27:29.733020Z"
    },
    "papermill": {
     "duration": 0.015465,
     "end_time": "2023-02-01T08:27:29.736111",
     "exception": false,
     "start_time": "2023-02-01T08:27:29.720646",
     "status": "completed"
    },
    "tags": []
   },
   "outputs": [
    {
     "data": {
      "text/plain": [
       "<torch.utils.data.dataloader.DataLoader at 0x7fc1bf3c4950>"
      ]
     },
     "execution_count": 14,
     "metadata": {},
     "output_type": "execute_result"
    }
   ],
   "source": [
    "train_loader = torch.utils.data.DataLoader(california_housing_train_dataset, batch_size=8, shuffle=True)\n",
    "train_loader"
   ]
  },
  {
   "cell_type": "code",
   "execution_count": 15,
   "id": "32ded7cd",
   "metadata": {
    "execution": {
     "iopub.execute_input": "2023-02-01T08:27:29.750241Z",
     "iopub.status.busy": "2023-02-01T08:27:29.749504Z",
     "iopub.status.idle": "2023-02-01T08:27:29.753650Z",
     "shell.execute_reply": "2023-02-01T08:27:29.752744Z"
    },
    "papermill": {
     "duration": 0.013184,
     "end_time": "2023-02-01T08:27:29.755594",
     "exception": false,
     "start_time": "2023-02-01T08:27:29.742410",
     "status": "completed"
    },
    "tags": []
   },
   "outputs": [],
   "source": [
    "california_housing_test_dataset = CaliforniaHousingDataset(test_dataset)"
   ]
  },
  {
   "cell_type": "code",
   "execution_count": 16,
   "id": "6c079a8e",
   "metadata": {
    "execution": {
     "iopub.execute_input": "2023-02-01T08:27:29.770080Z",
     "iopub.status.busy": "2023-02-01T08:27:29.769308Z",
     "iopub.status.idle": "2023-02-01T08:27:29.776462Z",
     "shell.execute_reply": "2023-02-01T08:27:29.775398Z"
    },
    "papermill": {
     "duration": 0.016884,
     "end_time": "2023-02-01T08:27:29.778811",
     "exception": false,
     "start_time": "2023-02-01T08:27:29.761927",
     "status": "completed"
    },
    "tags": []
   },
   "outputs": [
    {
     "data": {
      "text/plain": [
       "(array([   4.1528    ,   15.        ,    6.19327731,    0.98739496,\n",
       "         768.        ,    3.22689076,   35.34      , -119.08      ]),\n",
       " 1.301)"
      ]
     },
     "execution_count": 16,
     "metadata": {},
     "output_type": "execute_result"
    }
   ],
   "source": [
    "california_housing_test_dataset[0]"
   ]
  },
  {
   "cell_type": "code",
   "execution_count": 17,
   "id": "16528e6d",
   "metadata": {
    "execution": {
     "iopub.execute_input": "2023-02-01T08:27:29.794344Z",
     "iopub.status.busy": "2023-02-01T08:27:29.792919Z",
     "iopub.status.idle": "2023-02-01T08:27:29.799371Z",
     "shell.execute_reply": "2023-02-01T08:27:29.798429Z"
    },
    "papermill": {
     "duration": 0.015658,
     "end_time": "2023-02-01T08:27:29.801303",
     "exception": false,
     "start_time": "2023-02-01T08:27:29.785645",
     "status": "completed"
    },
    "tags": []
   },
   "outputs": [
    {
     "data": {
      "text/plain": [
       "<torch.utils.data.dataloader.DataLoader at 0x7fc1bf40a5d0>"
      ]
     },
     "execution_count": 17,
     "metadata": {},
     "output_type": "execute_result"
    }
   ],
   "source": [
    "test_loader = torch.utils.data.DataLoader(california_housing_test_dataset, batch_size=8, shuffle=False)\n",
    "test_loader"
   ]
  },
  {
   "cell_type": "code",
   "execution_count": 18,
   "id": "851780d1",
   "metadata": {
    "execution": {
     "iopub.execute_input": "2023-02-01T08:27:29.816215Z",
     "iopub.status.busy": "2023-02-01T08:27:29.815452Z",
     "iopub.status.idle": "2023-02-01T08:27:29.824082Z",
     "shell.execute_reply": "2023-02-01T08:27:29.823283Z"
    },
    "papermill": {
     "duration": 0.018164,
     "end_time": "2023-02-01T08:27:29.826056",
     "exception": false,
     "start_time": "2023-02-01T08:27:29.807892",
     "status": "completed"
    },
    "tags": []
   },
   "outputs": [],
   "source": [
    "class Perceptron(nn.Module):\n",
    "    def __init__(self, input_dim, output_dim, activation=\"relu\"):\n",
    "        super(Perceptron, self).__init__()\n",
    "        self.fc = nn.Linear(input_dim, output_dim)\n",
    "        self.activation = activation\n",
    "        \n",
    "    def forward(self, x):\n",
    "        x = self.fc(x)\n",
    "        if self.activation==\"relu\":\n",
    "            return F.relu(x)\n",
    "        if self.activation==\"sigmoid\":\n",
    "            return F.sigmoid(x)\n",
    "        raise RuntimeError\n",
    "        \n",
    "\n",
    "class LinearRegression(nn.Module):\n",
    "    def __init__(self, input_dim, hidden_dim):\n",
    "        super(LinearRegression, self).__init__()\n",
    "        self.fc1 = Perceptron(input_dim, hidden_dim)\n",
    "        self.bn = nn.BatchNorm1d(hidden_dim)\n",
    "        self.dp = nn.Dropout(0.25)\n",
    "        self.fc2 = Perceptron(hidden_dim, 1, \"relu\")\n",
    "        \n",
    "    def forward(self, x):\n",
    "        x = self.fc1(x)\n",
    "        x = self.dp(x)\n",
    "        x = self.bn(x)\n",
    "        x = self.fc2(x)\n",
    "        return x"
   ]
  },
  {
   "cell_type": "code",
   "execution_count": 19,
   "id": "f9170d29",
   "metadata": {
    "execution": {
     "iopub.execute_input": "2023-02-01T08:27:29.840457Z",
     "iopub.status.busy": "2023-02-01T08:27:29.840133Z",
     "iopub.status.idle": "2023-02-01T08:27:29.846783Z",
     "shell.execute_reply": "2023-02-01T08:27:29.845919Z"
    },
    "papermill": {
     "duration": 0.016221,
     "end_time": "2023-02-01T08:27:29.848793",
     "exception": false,
     "start_time": "2023-02-01T08:27:29.832572",
     "status": "completed"
    },
    "tags": []
   },
   "outputs": [],
   "source": [
    "net = LinearRegression(8, 1)\n",
    "criterion = nn.MSELoss()"
   ]
  },
  {
   "cell_type": "markdown",
   "id": "9202a924",
   "metadata": {
    "papermill": {
     "duration": 0.006548,
     "end_time": "2023-02-01T08:27:29.861990",
     "exception": false,
     "start_time": "2023-02-01T08:27:29.855442",
     "status": "completed"
    },
    "tags": []
   },
   "source": [
    "### SGD"
   ]
  },
  {
   "cell_type": "code",
   "execution_count": 20,
   "id": "7b955a89",
   "metadata": {
    "execution": {
     "iopub.execute_input": "2023-02-01T08:27:29.877214Z",
     "iopub.status.busy": "2023-02-01T08:27:29.876533Z",
     "iopub.status.idle": "2023-02-01T08:27:47.234552Z",
     "shell.execute_reply": "2023-02-01T08:27:47.233277Z"
    },
    "papermill": {
     "duration": 17.369318,
     "end_time": "2023-02-01T08:27:47.238062",
     "exception": false,
     "start_time": "2023-02-01T08:27:29.868744",
     "status": "completed"
    },
    "tags": []
   },
   "outputs": [
    {
     "name": "stderr",
     "output_type": "stream",
     "text": [
      "  0%|          | 0/10 [00:00<?, ?it/s]"
     ]
    },
    {
     "name": "stdout",
     "output_type": "stream",
     "text": [
      "Loss: 1.112. \n",
      "Loss: 0.680. \n",
      "Loss: 0.694. \n",
      "Loss: 0.704. \n",
      "Loss: 0.700. \n",
      "Loss: 0.710. \n"
     ]
    },
    {
     "name": "stderr",
     "output_type": "stream",
     "text": [
      " 10%|█         | 1/10 [00:01<00:17,  1.89s/it]"
     ]
    },
    {
     "name": "stdout",
     "output_type": "stream",
     "text": [
      "Loss: 0.716. \n",
      "Loss: 0.643. \n",
      "Loss: 0.706. \n",
      "Loss: 0.696. \n",
      "Loss: 0.704. \n",
      "Loss: 0.685. \n",
      "Loss: 0.700. \n"
     ]
    },
    {
     "name": "stderr",
     "output_type": "stream",
     "text": [
      " 20%|██        | 2/10 [00:03<00:14,  1.78s/it]"
     ]
    },
    {
     "name": "stdout",
     "output_type": "stream",
     "text": [
      "Loss: 0.710. \n",
      "Loss: 1.258. \n",
      "Loss: 0.670. \n",
      "Loss: 0.696. \n",
      "Loss: 0.702. \n",
      "Loss: 0.685. \n",
      "Loss: 0.701. \n"
     ]
    },
    {
     "name": "stderr",
     "output_type": "stream",
     "text": [
      " 30%|███       | 3/10 [00:05<00:12,  1.72s/it]"
     ]
    },
    {
     "name": "stdout",
     "output_type": "stream",
     "text": [
      "Loss: 0.713. \n",
      "Loss: 0.689. \n",
      "Loss: 0.685. \n",
      "Loss: 0.701. \n",
      "Loss: 0.706. \n",
      "Loss: 0.694. \n",
      "Loss: 0.714. \n"
     ]
    },
    {
     "name": "stderr",
     "output_type": "stream",
     "text": [
      " 40%|████      | 4/10 [00:07<00:10,  1.77s/it]"
     ]
    },
    {
     "name": "stdout",
     "output_type": "stream",
     "text": [
      "Loss: 0.707. \n",
      "Loss: 0.693. \n",
      "Loss: 0.681. \n",
      "Loss: 0.720. \n",
      "Loss: 0.691. \n",
      "Loss: 0.703. \n",
      "Loss: 0.699. \n"
     ]
    },
    {
     "name": "stderr",
     "output_type": "stream",
     "text": [
      " 50%|█████     | 5/10 [00:08<00:08,  1.72s/it]"
     ]
    },
    {
     "name": "stdout",
     "output_type": "stream",
     "text": [
      "Loss: 0.705. \n",
      "Loss: 0.503. \n",
      "Loss: 0.697. \n",
      "Loss: 0.713. \n",
      "Loss: 0.720. \n",
      "Loss: 0.700. \n",
      "Loss: 0.696. \n"
     ]
    },
    {
     "name": "stderr",
     "output_type": "stream",
     "text": [
      " 60%|██████    | 6/10 [00:10<00:06,  1.69s/it]"
     ]
    },
    {
     "name": "stdout",
     "output_type": "stream",
     "text": [
      "Loss: 0.675. \n",
      "Loss: 0.589. \n",
      "Loss: 0.699. \n",
      "Loss: 0.692. \n",
      "Loss: 0.705. \n",
      "Loss: 0.709. \n",
      "Loss: 0.683. \n"
     ]
    },
    {
     "name": "stderr",
     "output_type": "stream",
     "text": [
      " 70%|███████   | 7/10 [00:12<00:05,  1.82s/it]"
     ]
    },
    {
     "name": "stdout",
     "output_type": "stream",
     "text": [
      "Loss: 0.724. \n",
      "Loss: 0.691. \n",
      "Loss: 0.718. \n",
      "Loss: 0.689. \n",
      "Loss: 0.696. \n",
      "Loss: 0.713. \n",
      "Loss: 0.675. \n"
     ]
    },
    {
     "name": "stderr",
     "output_type": "stream",
     "text": [
      " 80%|████████  | 8/10 [00:14<00:03,  1.77s/it]"
     ]
    },
    {
     "name": "stdout",
     "output_type": "stream",
     "text": [
      "Loss: 0.709. \n",
      "Loss: 0.889. \n",
      "Loss: 0.703. \n",
      "Loss: 0.713. \n",
      "Loss: 0.666. \n",
      "Loss: 0.693. \n",
      "Loss: 0.695. \n"
     ]
    },
    {
     "name": "stderr",
     "output_type": "stream",
     "text": [
      " 90%|█████████ | 9/10 [00:15<00:01,  1.72s/it]"
     ]
    },
    {
     "name": "stdout",
     "output_type": "stream",
     "text": [
      "Loss: 0.711. \n",
      "Loss: 0.551. \n",
      "Loss: 0.711. \n",
      "Loss: 0.679. \n",
      "Loss: 0.706. \n",
      "Loss: 0.699. \n",
      "Loss: 0.710. \n"
     ]
    },
    {
     "name": "stderr",
     "output_type": "stream",
     "text": [
      "100%|██████████| 10/10 [00:17<00:00,  1.73s/it]"
     ]
    },
    {
     "name": "stdout",
     "output_type": "stream",
     "text": [
      "Loss: 0.686. \n",
      "Training is finished!\n",
      "CPU times: user 17 s, sys: 112 ms, total: 17.2 s\n",
      "Wall time: 17.3 s\n"
     ]
    },
    {
     "name": "stderr",
     "output_type": "stream",
     "text": [
      "\n"
     ]
    }
   ],
   "source": [
    "%%time\n",
    "\n",
    "optimizer = torch.optim.SGD(net.parameters(), lr=0.01)\n",
    "\n",
    "for epoch in tqdm(range(10)):  \n",
    "    running_loss, running_items = 0.0, 0.0\n",
    "    \n",
    "    for i, data in enumerate(train_loader):\n",
    "        inputs, labels = data[0].to(torch.float), data[1].to(torch.float)\n",
    "        labels = labels.reshape(8, 1)\n",
    "\n",
    "        # обнуляем градиент\n",
    "        optimizer.zero_grad()\n",
    "\n",
    "        outputs = net(inputs)\n",
    "        loss = criterion(outputs, labels)\n",
    "        loss.backward()\n",
    "        optimizer.step()\n",
    "\n",
    "        # выводим статистику о процессе обучения\n",
    "        running_loss += loss.item()\n",
    "        running_items += len(labels)\n",
    "        \n",
    "        # выводим статистику о процессе обучения\n",
    "        if i % 300 == 0:    # печатаем каждые 300 mini-batches\n",
    "            net.eval()\n",
    "\n",
    "            print(f'Loss: {running_loss / running_items:.3f}. ')\n",
    "            \n",
    "            running_loss, running_items = 0.0, 0.0\n",
    "\n",
    "            net.train()\n",
    "        \n",
    "print('Training is finished!')"
   ]
  },
  {
   "cell_type": "markdown",
   "id": "48599601",
   "metadata": {
    "papermill": {
     "duration": 0.010053,
     "end_time": "2023-02-01T08:27:47.259942",
     "exception": false,
     "start_time": "2023-02-01T08:27:47.249889",
     "status": "completed"
    },
    "tags": []
   },
   "source": [
    "### RMSProp"
   ]
  },
  {
   "cell_type": "code",
   "execution_count": 21,
   "id": "ed902ce1",
   "metadata": {
    "execution": {
     "iopub.execute_input": "2023-02-01T08:27:47.282075Z",
     "iopub.status.busy": "2023-02-01T08:27:47.281763Z",
     "iopub.status.idle": "2023-02-01T08:28:05.978619Z",
     "shell.execute_reply": "2023-02-01T08:28:05.977101Z"
    },
    "papermill": {
     "duration": 18.711166,
     "end_time": "2023-02-01T08:28:05.981431",
     "exception": false,
     "start_time": "2023-02-01T08:27:47.270265",
     "status": "completed"
    },
    "tags": []
   },
   "outputs": [
    {
     "name": "stderr",
     "output_type": "stream",
     "text": [
      "  0%|          | 0/10 [00:00<?, ?it/s]"
     ]
    },
    {
     "name": "stdout",
     "output_type": "stream",
     "text": [
      "Loss: 0.578. \n",
      "Loss: 0.707. \n",
      "Loss: 0.666. \n",
      "Loss: 0.708. \n",
      "Loss: 0.699. \n",
      "Loss: 0.689. \n"
     ]
    },
    {
     "name": "stderr",
     "output_type": "stream",
     "text": [
      " 10%|█         | 1/10 [00:02<00:19,  2.13s/it]"
     ]
    },
    {
     "name": "stdout",
     "output_type": "stream",
     "text": [
      "Loss: 0.707. \n",
      "Loss: 0.630. \n",
      "Loss: 0.719. \n",
      "Loss: 0.699. \n",
      "Loss: 0.687. \n",
      "Loss: 0.700. \n",
      "Loss: 0.705. \n"
     ]
    },
    {
     "name": "stderr",
     "output_type": "stream",
     "text": [
      " 20%|██        | 2/10 [00:03<00:15,  1.96s/it]"
     ]
    },
    {
     "name": "stdout",
     "output_type": "stream",
     "text": [
      "Loss: 0.714. \n",
      "Loss: 0.747. \n",
      "Loss: 0.675. \n",
      "Loss: 0.710. \n",
      "Loss: 0.696. \n",
      "Loss: 0.719. \n",
      "Loss: 0.682. \n"
     ]
    },
    {
     "name": "stderr",
     "output_type": "stream",
     "text": [
      " 30%|███       | 3/10 [00:05<00:13,  1.88s/it]"
     ]
    },
    {
     "name": "stdout",
     "output_type": "stream",
     "text": [
      "Loss: 0.720. \n",
      "Loss: 0.343. \n",
      "Loss: 0.690. \n",
      "Loss: 0.692. \n",
      "Loss: 0.725. \n",
      "Loss: 0.692. \n",
      "Loss: 0.717. \n"
     ]
    },
    {
     "name": "stderr",
     "output_type": "stream",
     "text": [
      " 40%|████      | 4/10 [00:07<00:11,  1.84s/it]"
     ]
    },
    {
     "name": "stdout",
     "output_type": "stream",
     "text": [
      "Loss: 0.688. \n",
      "Loss: 1.054. \n",
      "Loss: 0.716. \n",
      "Loss: 0.690. \n",
      "Loss: 0.706. \n",
      "Loss: 0.685. \n",
      "Loss: 0.682. \n"
     ]
    },
    {
     "name": "stderr",
     "output_type": "stream",
     "text": [
      " 50%|█████     | 5/10 [00:09<00:09,  1.83s/it]"
     ]
    },
    {
     "name": "stdout",
     "output_type": "stream",
     "text": [
      "Loss: 0.731. \n",
      "Loss: 0.450. \n",
      "Loss: 0.717. \n",
      "Loss: 0.693. \n",
      "Loss: 0.701. \n",
      "Loss: 0.709. \n",
      "Loss: 0.672. \n",
      "Loss: 0.704. \n"
     ]
    },
    {
     "name": "stderr",
     "output_type": "stream",
     "text": [
      " 60%|██████    | 6/10 [00:11<00:07,  1.86s/it]"
     ]
    },
    {
     "name": "stdout",
     "output_type": "stream",
     "text": [
      "Loss: 0.517. \n",
      "Loss: 0.710. \n",
      "Loss: 0.685. \n",
      "Loss: 0.706. \n",
      "Loss: 0.706. \n",
      "Loss: 0.699. \n"
     ]
    },
    {
     "name": "stderr",
     "output_type": "stream",
     "text": [
      " 70%|███████   | 7/10 [00:13<00:05,  1.89s/it]"
     ]
    },
    {
     "name": "stdout",
     "output_type": "stream",
     "text": [
      "Loss: 0.673. \n",
      "Loss: 0.865. \n",
      "Loss: 0.716. \n",
      "Loss: 0.712. \n",
      "Loss: 0.707. \n",
      "Loss: 0.688. \n",
      "Loss: 0.685. \n"
     ]
    },
    {
     "name": "stderr",
     "output_type": "stream",
     "text": [
      " 80%|████████  | 8/10 [00:15<00:03,  1.87s/it]"
     ]
    },
    {
     "name": "stdout",
     "output_type": "stream",
     "text": [
      "Loss: 0.682. \n",
      "Loss: 0.627. \n",
      "Loss: 0.710. \n",
      "Loss: 0.689. \n",
      "Loss: 0.692. \n",
      "Loss: 0.702. \n",
      "Loss: 0.718. \n"
     ]
    },
    {
     "name": "stderr",
     "output_type": "stream",
     "text": [
      " 90%|█████████ | 9/10 [00:16<00:01,  1.86s/it]"
     ]
    },
    {
     "name": "stdout",
     "output_type": "stream",
     "text": [
      "Loss: 0.690. \n",
      "Loss: 0.776. \n",
      "Loss: 0.695. \n",
      "Loss: 0.687. \n",
      "Loss: 0.693. \n",
      "Loss: 0.692. \n",
      "Loss: 0.714. \n"
     ]
    },
    {
     "name": "stderr",
     "output_type": "stream",
     "text": [
      "100%|██████████| 10/10 [00:18<00:00,  1.87s/it]"
     ]
    },
    {
     "name": "stdout",
     "output_type": "stream",
     "text": [
      "Loss: 0.704. \n",
      "Training is finished!\n",
      "CPU times: user 18.6 s, sys: 43.3 ms, total: 18.6 s\n",
      "Wall time: 18.7 s\n"
     ]
    },
    {
     "name": "stderr",
     "output_type": "stream",
     "text": [
      "\n"
     ]
    }
   ],
   "source": [
    "%%time\n",
    "\n",
    "optimizer = torch.optim.RMSprop(net.parameters(), lr=0.1, alpha=0.99)\n",
    "\n",
    "for epoch in tqdm(range(10)):  \n",
    "    running_loss, running_items = 0.0, 0.0\n",
    "    \n",
    "    for i, data in enumerate(train_loader):\n",
    "        inputs, labels = data[0].to(torch.float), data[1].to(torch.float)\n",
    "        labels = labels.reshape(8, 1)\n",
    "\n",
    "        # обнуляем градиент\n",
    "        optimizer.zero_grad()\n",
    "\n",
    "        outputs = net(inputs)\n",
    "        loss = criterion(outputs, labels)\n",
    "        loss.backward()\n",
    "        optimizer.step()\n",
    "\n",
    "        # выводим статистику о процессе обучения\n",
    "        running_loss += loss.item()\n",
    "        running_items += len(labels)\n",
    "        \n",
    "        # выводим статистику о процессе обучения\n",
    "        if i % 300 == 0:    # печатаем каждые 300 mini-batches\n",
    "            net.eval()\n",
    "\n",
    "            print(f'Loss: {running_loss / running_items:.3f}. ')\n",
    "            \n",
    "            running_loss, running_items = 0.0, 0.0\n",
    "\n",
    "            net.train()\n",
    "        \n",
    "print('Training is finished!')"
   ]
  },
  {
   "cell_type": "markdown",
   "id": "dc006112",
   "metadata": {
    "papermill": {
     "duration": 0.013331,
     "end_time": "2023-02-01T08:28:06.009612",
     "exception": false,
     "start_time": "2023-02-01T08:28:05.996281",
     "status": "completed"
    },
    "tags": []
   },
   "source": [
    "### Adam"
   ]
  },
  {
   "cell_type": "code",
   "execution_count": 22,
   "id": "87a5d50d",
   "metadata": {
    "execution": {
     "iopub.execute_input": "2023-02-01T08:28:06.039787Z",
     "iopub.status.busy": "2023-02-01T08:28:06.038300Z",
     "iopub.status.idle": "2023-02-01T08:28:27.083989Z",
     "shell.execute_reply": "2023-02-01T08:28:27.082806Z"
    },
    "papermill": {
     "duration": 21.064828,
     "end_time": "2023-02-01T08:28:27.088411",
     "exception": false,
     "start_time": "2023-02-01T08:28:06.023583",
     "status": "completed"
    },
    "tags": []
   },
   "outputs": [
    {
     "name": "stderr",
     "output_type": "stream",
     "text": [
      "  0%|          | 0/10 [00:00<?, ?it/s]"
     ]
    },
    {
     "name": "stdout",
     "output_type": "stream",
     "text": [
      "Loss: 0.958. \n",
      "Loss: 0.685. \n",
      "Loss: 0.701. \n",
      "Loss: 0.723. \n",
      "Loss: 0.699. \n",
      "Loss: 0.721. \n"
     ]
    },
    {
     "name": "stderr",
     "output_type": "stream",
     "text": [
      " 10%|█         | 1/10 [00:01<00:17,  2.00s/it]"
     ]
    },
    {
     "name": "stdout",
     "output_type": "stream",
     "text": [
      "Loss: 0.677. \n",
      "Loss: 0.744. \n",
      "Loss: 0.671. \n",
      "Loss: 0.735. \n",
      "Loss: 0.697. \n",
      "Loss: 0.681. \n",
      "Loss: 0.697. \n"
     ]
    },
    {
     "name": "stderr",
     "output_type": "stream",
     "text": [
      " 20%|██        | 2/10 [00:04<00:17,  2.15s/it]"
     ]
    },
    {
     "name": "stdout",
     "output_type": "stream",
     "text": [
      "Loss: 0.707. \n",
      "Loss: 0.582. \n",
      "Loss: 0.692. \n",
      "Loss: 0.698. \n",
      "Loss: 0.700. \n",
      "Loss: 0.720. \n",
      "Loss: 0.708. \n"
     ]
    },
    {
     "name": "stderr",
     "output_type": "stream",
     "text": [
      " 30%|███       | 3/10 [00:06<00:14,  2.07s/it]"
     ]
    },
    {
     "name": "stdout",
     "output_type": "stream",
     "text": [
      "Loss: 0.683. \n",
      "Loss: 0.442. \n",
      "Loss: 0.702. \n",
      "Loss: 0.692. \n",
      "Loss: 0.705. \n",
      "Loss: 0.702. \n",
      "Loss: 0.688. \n"
     ]
    },
    {
     "name": "stderr",
     "output_type": "stream",
     "text": [
      " 40%|████      | 4/10 [00:08<00:13,  2.27s/it]"
     ]
    },
    {
     "name": "stdout",
     "output_type": "stream",
     "text": [
      "Loss: 0.700. \n",
      "Loss: 0.311. \n",
      "Loss: 0.677. \n",
      "Loss: 0.696. \n",
      "Loss: 0.695. \n",
      "Loss: 0.695. \n",
      "Loss: 0.729. \n"
     ]
    },
    {
     "name": "stderr",
     "output_type": "stream",
     "text": [
      " 50%|█████     | 5/10 [00:10<00:11,  2.20s/it]"
     ]
    },
    {
     "name": "stdout",
     "output_type": "stream",
     "text": [
      "Loss: 0.723. \n",
      "Loss: 0.626. \n",
      "Loss: 0.693. \n",
      "Loss: 0.707. \n",
      "Loss: 0.710. \n",
      "Loss: 0.709. \n",
      "Loss: 0.698. \n"
     ]
    },
    {
     "name": "stderr",
     "output_type": "stream",
     "text": [
      " 60%|██████    | 6/10 [00:12<00:08,  2.14s/it]"
     ]
    },
    {
     "name": "stdout",
     "output_type": "stream",
     "text": [
      "Loss: 0.687. \n",
      "Loss: 0.430. \n",
      "Loss: 0.653. \n",
      "Loss: 0.705. \n",
      "Loss: 0.709. \n",
      "Loss: 0.720. \n",
      "Loss: 0.731. \n"
     ]
    },
    {
     "name": "stderr",
     "output_type": "stream",
     "text": [
      " 70%|███████   | 7/10 [00:15<00:06,  2.18s/it]"
     ]
    },
    {
     "name": "stdout",
     "output_type": "stream",
     "text": [
      "Loss: 0.681. \n",
      "Loss: 1.378. \n",
      "Loss: 0.695. \n",
      "Loss: 0.664. \n",
      "Loss: 0.689. \n",
      "Loss: 0.712. \n",
      "Loss: 0.700. \n"
     ]
    },
    {
     "name": "stderr",
     "output_type": "stream",
     "text": [
      " 80%|████████  | 8/10 [00:17<00:04,  2.11s/it]"
     ]
    },
    {
     "name": "stdout",
     "output_type": "stream",
     "text": [
      "Loss: 0.704. \n",
      "Loss: 0.549. \n",
      "Loss: 0.706. \n",
      "Loss: 0.713. \n",
      "Loss: 0.701. \n",
      "Loss: 0.692. \n",
      "Loss: 0.694. \n"
     ]
    },
    {
     "name": "stderr",
     "output_type": "stream",
     "text": [
      " 90%|█████████ | 9/10 [00:19<00:02,  2.06s/it]"
     ]
    },
    {
     "name": "stdout",
     "output_type": "stream",
     "text": [
      "Loss: 0.684. \n",
      "Loss: 0.515. \n",
      "Loss: 0.690. \n",
      "Loss: 0.694. \n",
      "Loss: 0.713. \n",
      "Loss: 0.670. \n",
      "Loss: 0.708. \n"
     ]
    },
    {
     "name": "stderr",
     "output_type": "stream",
     "text": [
      "100%|██████████| 10/10 [00:21<00:00,  2.10s/it]"
     ]
    },
    {
     "name": "stdout",
     "output_type": "stream",
     "text": [
      "Loss: 0.727. \n",
      "Training is finished!\n",
      "CPU times: user 20.8 s, sys: 55.1 ms, total: 20.9 s\n",
      "Wall time: 21 s\n"
     ]
    },
    {
     "name": "stderr",
     "output_type": "stream",
     "text": [
      "\n"
     ]
    }
   ],
   "source": [
    "%%time\n",
    "\n",
    "optimizer = torch.optim.Adam(net.parameters(), lr=0.1)\n",
    "\n",
    "for epoch in tqdm(range(10)):  \n",
    "    running_loss, running_items = 0.0, 0.0\n",
    "    \n",
    "    for i, data in enumerate(train_loader):\n",
    "        inputs, labels = data[0].to(torch.float), data[1].to(torch.float)\n",
    "        labels = labels.reshape(8, 1)\n",
    "\n",
    "        # обнуляем градиент\n",
    "        optimizer.zero_grad()\n",
    "\n",
    "        outputs = net(inputs)\n",
    "        loss = criterion(outputs, labels)\n",
    "        loss.backward()\n",
    "        optimizer.step()\n",
    "\n",
    "        # выводим статистику о процессе обучения\n",
    "        running_loss += loss.item()\n",
    "        running_items += len(labels)\n",
    "        \n",
    "        # выводим статистику о процессе обучения\n",
    "        if i % 300 == 0:    # печатаем каждые 300 mini-batches\n",
    "            net.eval()\n",
    "\n",
    "            print(f'Loss: {running_loss / running_items:.3f}. ')\n",
    "            \n",
    "            running_loss, running_items = 0.0, 0.0\n",
    "\n",
    "            net.train()\n",
    "        \n",
    "print('Training is finished!')"
   ]
  },
  {
   "cell_type": "markdown",
   "id": "b0c2beba",
   "metadata": {
    "papermill": {
     "duration": 0.017029,
     "end_time": "2023-02-01T08:28:27.124728",
     "exception": false,
     "start_time": "2023-02-01T08:28:27.107699",
     "status": "completed"
    },
    "tags": []
   },
   "source": [
    "### Вывод: \n",
    "\n",
    "Как мы видим SGD отработал быстрее всех, однако Adam был самый медленный. Показатели Loss у SGD и RMSProp идентичны 0.168, а у Adam Loss значительно хуже 0.170 также он несколько медленнее. Поэтому оптимальным для выполнения данной задачи считаю SGD"
   ]
  }
 ],
 "metadata": {
  "kernelspec": {
   "display_name": "Python 3",
   "language": "python",
   "name": "python3"
  },
  "language_info": {
   "codemirror_mode": {
    "name": "ipython",
    "version": 3
   },
   "file_extension": ".py",
   "mimetype": "text/x-python",
   "name": "python",
   "nbconvert_exporter": "python",
   "pygments_lexer": "ipython3",
   "version": "3.7.12"
  },
  "papermill": {
   "default_parameters": {},
   "duration": 71.6601,
   "end_time": "2023-02-01T08:28:28.163569",
   "environment_variables": {},
   "exception": null,
   "input_path": "__notebook__.ipynb",
   "output_path": "__notebook__.ipynb",
   "parameters": {},
   "start_time": "2023-02-01T08:27:16.503469",
   "version": "2.3.4"
  }
 },
 "nbformat": 4,
 "nbformat_minor": 5
}
